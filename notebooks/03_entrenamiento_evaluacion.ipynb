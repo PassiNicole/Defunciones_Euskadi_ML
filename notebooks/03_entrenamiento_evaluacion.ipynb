{
 "cells": [
  {
   "cell_type": "code",
   "execution_count": 11,
   "metadata": {},
   "outputs": [],
   "source": [
    "import pandas as pd\n",
    "from sklearn.model_selection import train_test_split\n",
    "from sklearn.linear_model import LinearRegression\n",
    "from sklearn.linear_model import LogisticRegression\n",
    "from sklearn.preprocessing import label_binarize\n",
    "from sklearn.metrics import mean_squared_error\n",
    "from sklearn.metrics import r2_score\n",
    "from sklearn.metrics import classification_report\n",
    "from sklearn.metrics import roc_auc_score, f1_score\n",
    "from sklearn.metrics import roc_curve, confusion_matrix\n",
    "from sklearn.metrics import accuracy_score, recall_score, precision_score\n",
    "from sklearn.metrics import precision_recall_curve\n",
    "from sklearn.ensemble import GradientBoostingRegressor\n",
    "from sklearn.neural_network import MLPRegressor\n",
    "from sklearn.neighbors import KNeighborsRegressor\n",
    "from sklearn.svm import SVR\n",
    "from sklearn.tree import DecisionTreeRegressor\n",
    "from sklearn.ensemble import RandomForestRegressor\n",
    "from sklearn.ensemble import RandomForestClassifier\n",
    "import matplotlib.pyplot as plt"
   ]
  },
  {
   "cell_type": "code",
   "execution_count": 2,
   "metadata": {},
   "outputs": [
    {
     "data": {
      "text/html": [
       "<div>\n",
       "<style scoped>\n",
       "    .dataframe tbody tr th:only-of-type {\n",
       "        vertical-align: middle;\n",
       "    }\n",
       "\n",
       "    .dataframe tbody tr th {\n",
       "        vertical-align: top;\n",
       "    }\n",
       "\n",
       "    .dataframe thead th {\n",
       "        text-align: right;\n",
       "    }\n",
       "</style>\n",
       "<table border=\"1\" class=\"dataframe\">\n",
       "  <thead>\n",
       "    <tr style=\"text-align: right;\">\n",
       "      <th></th>\n",
       "      <th>Unnamed: 0</th>\n",
       "      <th>grandes grupos CIE-10</th>\n",
       "      <th>mes</th>\n",
       "      <th>tramo edad cumplida</th>\n",
       "      <th>sexo</th>\n",
       "      <th>2010</th>\n",
       "      <th>2011</th>\n",
       "      <th>2012</th>\n",
       "      <th>2013</th>\n",
       "      <th>2014</th>\n",
       "      <th>...</th>\n",
       "      <th>2018</th>\n",
       "      <th>2019</th>\n",
       "      <th>2020</th>\n",
       "      <th>2021</th>\n",
       "      <th>2022</th>\n",
       "      <th>2023</th>\n",
       "      <th>rango1</th>\n",
       "      <th>rango2</th>\n",
       "      <th>rango3</th>\n",
       "      <th>Defunciones</th>\n",
       "    </tr>\n",
       "  </thead>\n",
       "  <tbody>\n",
       "    <tr>\n",
       "      <th>0</th>\n",
       "      <td>0</td>\n",
       "      <td>1</td>\n",
       "      <td>1</td>\n",
       "      <td>1</td>\n",
       "      <td>0</td>\n",
       "      <td>0</td>\n",
       "      <td>0</td>\n",
       "      <td>0</td>\n",
       "      <td>0</td>\n",
       "      <td>0</td>\n",
       "      <td>...</td>\n",
       "      <td>0</td>\n",
       "      <td>0</td>\n",
       "      <td>0</td>\n",
       "      <td>0</td>\n",
       "      <td>0</td>\n",
       "      <td>0</td>\n",
       "      <td>-0.288778</td>\n",
       "      <td>-0.293788</td>\n",
       "      <td>-0.322590</td>\n",
       "      <td>-0.304358</td>\n",
       "    </tr>\n",
       "    <tr>\n",
       "      <th>1</th>\n",
       "      <td>1</td>\n",
       "      <td>1</td>\n",
       "      <td>1</td>\n",
       "      <td>1</td>\n",
       "      <td>1</td>\n",
       "      <td>0</td>\n",
       "      <td>0</td>\n",
       "      <td>0</td>\n",
       "      <td>0</td>\n",
       "      <td>0</td>\n",
       "      <td>...</td>\n",
       "      <td>0</td>\n",
       "      <td>0</td>\n",
       "      <td>0</td>\n",
       "      <td>0</td>\n",
       "      <td>0</td>\n",
       "      <td>0</td>\n",
       "      <td>-0.288778</td>\n",
       "      <td>-0.293788</td>\n",
       "      <td>-0.322590</td>\n",
       "      <td>-0.304358</td>\n",
       "    </tr>\n",
       "    <tr>\n",
       "      <th>2</th>\n",
       "      <td>2</td>\n",
       "      <td>1</td>\n",
       "      <td>1</td>\n",
       "      <td>2</td>\n",
       "      <td>0</td>\n",
       "      <td>0</td>\n",
       "      <td>0</td>\n",
       "      <td>0</td>\n",
       "      <td>0</td>\n",
       "      <td>0</td>\n",
       "      <td>...</td>\n",
       "      <td>0</td>\n",
       "      <td>0</td>\n",
       "      <td>0</td>\n",
       "      <td>0</td>\n",
       "      <td>0</td>\n",
       "      <td>0</td>\n",
       "      <td>-0.288778</td>\n",
       "      <td>-0.293788</td>\n",
       "      <td>-0.322590</td>\n",
       "      <td>-0.304358</td>\n",
       "    </tr>\n",
       "    <tr>\n",
       "      <th>3</th>\n",
       "      <td>3</td>\n",
       "      <td>1</td>\n",
       "      <td>1</td>\n",
       "      <td>2</td>\n",
       "      <td>1</td>\n",
       "      <td>0</td>\n",
       "      <td>1</td>\n",
       "      <td>0</td>\n",
       "      <td>0</td>\n",
       "      <td>0</td>\n",
       "      <td>...</td>\n",
       "      <td>0</td>\n",
       "      <td>0</td>\n",
       "      <td>0</td>\n",
       "      <td>0</td>\n",
       "      <td>0</td>\n",
       "      <td>0</td>\n",
       "      <td>-0.272658</td>\n",
       "      <td>-0.293788</td>\n",
       "      <td>-0.322590</td>\n",
       "      <td>-0.298748</td>\n",
       "    </tr>\n",
       "    <tr>\n",
       "      <th>4</th>\n",
       "      <td>4</td>\n",
       "      <td>1</td>\n",
       "      <td>1</td>\n",
       "      <td>3</td>\n",
       "      <td>0</td>\n",
       "      <td>0</td>\n",
       "      <td>0</td>\n",
       "      <td>0</td>\n",
       "      <td>0</td>\n",
       "      <td>0</td>\n",
       "      <td>...</td>\n",
       "      <td>0</td>\n",
       "      <td>0</td>\n",
       "      <td>0</td>\n",
       "      <td>0</td>\n",
       "      <td>0</td>\n",
       "      <td>0</td>\n",
       "      <td>-0.288778</td>\n",
       "      <td>-0.293788</td>\n",
       "      <td>-0.322590</td>\n",
       "      <td>-0.304358</td>\n",
       "    </tr>\n",
       "    <tr>\n",
       "      <th>...</th>\n",
       "      <td>...</td>\n",
       "      <td>...</td>\n",
       "      <td>...</td>\n",
       "      <td>...</td>\n",
       "      <td>...</td>\n",
       "      <td>...</td>\n",
       "      <td>...</td>\n",
       "      <td>...</td>\n",
       "      <td>...</td>\n",
       "      <td>...</td>\n",
       "      <td>...</td>\n",
       "      <td>...</td>\n",
       "      <td>...</td>\n",
       "      <td>...</td>\n",
       "      <td>...</td>\n",
       "      <td>...</td>\n",
       "      <td>...</td>\n",
       "      <td>...</td>\n",
       "      <td>...</td>\n",
       "      <td>...</td>\n",
       "      <td>...</td>\n",
       "    </tr>\n",
       "    <tr>\n",
       "      <th>5539</th>\n",
       "      <td>5539</td>\n",
       "      <td>21</td>\n",
       "      <td>12</td>\n",
       "      <td>9</td>\n",
       "      <td>1</td>\n",
       "      <td>0</td>\n",
       "      <td>0</td>\n",
       "      <td>0</td>\n",
       "      <td>0</td>\n",
       "      <td>0</td>\n",
       "      <td>...</td>\n",
       "      <td>0</td>\n",
       "      <td>0</td>\n",
       "      <td>0</td>\n",
       "      <td>0</td>\n",
       "      <td>0</td>\n",
       "      <td>0</td>\n",
       "      <td>-0.288778</td>\n",
       "      <td>-0.293788</td>\n",
       "      <td>-0.322590</td>\n",
       "      <td>-0.304358</td>\n",
       "    </tr>\n",
       "    <tr>\n",
       "      <th>5540</th>\n",
       "      <td>5540</td>\n",
       "      <td>21</td>\n",
       "      <td>12</td>\n",
       "      <td>10</td>\n",
       "      <td>0</td>\n",
       "      <td>0</td>\n",
       "      <td>0</td>\n",
       "      <td>0</td>\n",
       "      <td>0</td>\n",
       "      <td>0</td>\n",
       "      <td>...</td>\n",
       "      <td>0</td>\n",
       "      <td>0</td>\n",
       "      <td>2</td>\n",
       "      <td>0</td>\n",
       "      <td>0</td>\n",
       "      <td>0</td>\n",
       "      <td>-0.288778</td>\n",
       "      <td>-0.293788</td>\n",
       "      <td>-0.284467</td>\n",
       "      <td>-0.293139</td>\n",
       "    </tr>\n",
       "    <tr>\n",
       "      <th>5541</th>\n",
       "      <td>5541</td>\n",
       "      <td>21</td>\n",
       "      <td>12</td>\n",
       "      <td>10</td>\n",
       "      <td>1</td>\n",
       "      <td>0</td>\n",
       "      <td>0</td>\n",
       "      <td>0</td>\n",
       "      <td>0</td>\n",
       "      <td>0</td>\n",
       "      <td>...</td>\n",
       "      <td>0</td>\n",
       "      <td>0</td>\n",
       "      <td>3</td>\n",
       "      <td>1</td>\n",
       "      <td>0</td>\n",
       "      <td>0</td>\n",
       "      <td>-0.288778</td>\n",
       "      <td>-0.293788</td>\n",
       "      <td>-0.246345</td>\n",
       "      <td>-0.281920</td>\n",
       "    </tr>\n",
       "    <tr>\n",
       "      <th>5542</th>\n",
       "      <td>5542</td>\n",
       "      <td>21</td>\n",
       "      <td>12</td>\n",
       "      <td>11</td>\n",
       "      <td>0</td>\n",
       "      <td>0</td>\n",
       "      <td>0</td>\n",
       "      <td>0</td>\n",
       "      <td>0</td>\n",
       "      <td>0</td>\n",
       "      <td>...</td>\n",
       "      <td>0</td>\n",
       "      <td>0</td>\n",
       "      <td>3</td>\n",
       "      <td>0</td>\n",
       "      <td>1</td>\n",
       "      <td>0</td>\n",
       "      <td>-0.288778</td>\n",
       "      <td>-0.293788</td>\n",
       "      <td>-0.246345</td>\n",
       "      <td>-0.281920</td>\n",
       "    </tr>\n",
       "    <tr>\n",
       "      <th>5543</th>\n",
       "      <td>5543</td>\n",
       "      <td>21</td>\n",
       "      <td>12</td>\n",
       "      <td>11</td>\n",
       "      <td>1</td>\n",
       "      <td>0</td>\n",
       "      <td>0</td>\n",
       "      <td>0</td>\n",
       "      <td>0</td>\n",
       "      <td>0</td>\n",
       "      <td>...</td>\n",
       "      <td>0</td>\n",
       "      <td>0</td>\n",
       "      <td>1</td>\n",
       "      <td>1</td>\n",
       "      <td>0</td>\n",
       "      <td>0</td>\n",
       "      <td>-0.288778</td>\n",
       "      <td>-0.293788</td>\n",
       "      <td>-0.284467</td>\n",
       "      <td>-0.293139</td>\n",
       "    </tr>\n",
       "  </tbody>\n",
       "</table>\n",
       "<p>5544 rows × 23 columns</p>\n",
       "</div>"
      ],
      "text/plain": [
       "      Unnamed: 0  grandes grupos CIE-10  mes  tramo edad cumplida  sexo  2010  \\\n",
       "0              0                      1    1                    1     0     0   \n",
       "1              1                      1    1                    1     1     0   \n",
       "2              2                      1    1                    2     0     0   \n",
       "3              3                      1    1                    2     1     0   \n",
       "4              4                      1    1                    3     0     0   \n",
       "...          ...                    ...  ...                  ...   ...   ...   \n",
       "5539        5539                     21   12                    9     1     0   \n",
       "5540        5540                     21   12                   10     0     0   \n",
       "5541        5541                     21   12                   10     1     0   \n",
       "5542        5542                     21   12                   11     0     0   \n",
       "5543        5543                     21   12                   11     1     0   \n",
       "\n",
       "      2011  2012  2013  2014  ...  2018  2019  2020  2021  2022  2023  \\\n",
       "0        0     0     0     0  ...     0     0     0     0     0     0   \n",
       "1        0     0     0     0  ...     0     0     0     0     0     0   \n",
       "2        0     0     0     0  ...     0     0     0     0     0     0   \n",
       "3        1     0     0     0  ...     0     0     0     0     0     0   \n",
       "4        0     0     0     0  ...     0     0     0     0     0     0   \n",
       "...    ...   ...   ...   ...  ...   ...   ...   ...   ...   ...   ...   \n",
       "5539     0     0     0     0  ...     0     0     0     0     0     0   \n",
       "5540     0     0     0     0  ...     0     0     2     0     0     0   \n",
       "5541     0     0     0     0  ...     0     0     3     1     0     0   \n",
       "5542     0     0     0     0  ...     0     0     3     0     1     0   \n",
       "5543     0     0     0     0  ...     0     0     1     1     0     0   \n",
       "\n",
       "        rango1    rango2    rango3  Defunciones  \n",
       "0    -0.288778 -0.293788 -0.322590    -0.304358  \n",
       "1    -0.288778 -0.293788 -0.322590    -0.304358  \n",
       "2    -0.288778 -0.293788 -0.322590    -0.304358  \n",
       "3    -0.272658 -0.293788 -0.322590    -0.298748  \n",
       "4    -0.288778 -0.293788 -0.322590    -0.304358  \n",
       "...        ...       ...       ...          ...  \n",
       "5539 -0.288778 -0.293788 -0.322590    -0.304358  \n",
       "5540 -0.288778 -0.293788 -0.284467    -0.293139  \n",
       "5541 -0.288778 -0.293788 -0.246345    -0.281920  \n",
       "5542 -0.288778 -0.293788 -0.246345    -0.281920  \n",
       "5543 -0.288778 -0.293788 -0.284467    -0.293139  \n",
       "\n",
       "[5544 rows x 23 columns]"
      ]
     },
     "execution_count": 2,
     "metadata": {},
     "output_type": "execute_result"
    }
   ],
   "source": [
    "data_defunciones = pd.read_csv(\"../data/data_defunciones_procesado.csv\")\n",
    "data_defunciones"
   ]
  },
  {
   "cell_type": "code",
   "execution_count": 3,
   "metadata": {},
   "outputs": [
    {
     "data": {
      "text/plain": [
       "Index(['Unnamed: 0', 'grandes grupos CIE-10', 'mes', 'tramo edad cumplida',\n",
       "       'sexo', '2010', '2011', '2012', '2013', '2014', '2015', '2016', '2017',\n",
       "       '2018', '2019', '2020', '2021', '2022', '2023', 'rango1', 'rango2',\n",
       "       'rango3', 'Defunciones'],\n",
       "      dtype='object')"
      ]
     },
     "execution_count": 3,
     "metadata": {},
     "output_type": "execute_result"
    }
   ],
   "source": [
    "data_defunciones.columns"
   ]
  },
  {
   "cell_type": "code",
   "execution_count": 4,
   "metadata": {},
   "outputs": [],
   "source": [
    "#variable independiente (X) y dependiente (y)\n",
    "\n",
    "X = data_defunciones[['tramo edad cumplida', 'mes', 'sexo', 'grandes grupos CIE-10']]\n",
    "y = data_defunciones['Defunciones']\n",
    "\n",
    "# entrenamiento y prueba\n",
    "X_train, X_test, y_train, y_test = train_test_split(X, y, test_size=0.2, random_state=0)"
   ]
  },
  {
   "cell_type": "code",
   "execution_count": 5,
   "metadata": {},
   "outputs": [
    {
     "name": "stdout",
     "output_type": "stream",
     "text": [
      "(4435, 4)\n",
      "(1109, 4)\n",
      "(4435,)\n",
      "(1109,)\n"
     ]
    }
   ],
   "source": [
    "print(X_train.shape)\n",
    "print(X_test.shape)\n",
    "print(y_train.shape)\n",
    "print(y_test.shape)"
   ]
  },
  {
   "cell_type": "code",
   "execution_count": 6,
   "metadata": {},
   "outputs": [],
   "source": [
    "X_train.to_csv('../data/X_train_def.csv')\n",
    "y_train.to_csv('../data/y_train_def.csv')"
   ]
  },
  {
   "cell_type": "code",
   "execution_count": 7,
   "metadata": {},
   "outputs": [],
   "source": [
    "X_test.to_csv('../data/X_test_def.csv')\n",
    "y_test.to_csv('../data/y_test_def.csv')"
   ]
  },
  {
   "cell_type": "markdown",
   "metadata": {},
   "source": [
    "# Modelos"
   ]
  },
  {
   "cell_type": "code",
   "execution_count": 20,
   "metadata": {},
   "outputs": [
    {
     "ename": "ValueError",
     "evalue": "Unknown label type: continuous. Maybe you are trying to fit a classifier, which expects discrete classes on a regression target with continuous values.",
     "output_type": "error",
     "traceback": [
      "\u001b[1;31m---------------------------------------------------------------------------\u001b[0m",
      "\u001b[1;31mValueError\u001b[0m                                Traceback (most recent call last)",
      "Cell \u001b[1;32mIn[20], line 6\u001b[0m\n\u001b[0;32m      4\u001b[0m \u001b[38;5;66;03m# Entrenamiento del modelo\u001b[39;00m\n\u001b[0;32m      5\u001b[0m modelo_lr \u001b[38;5;241m=\u001b[39m LogisticRegression(max_iter\u001b[38;5;241m=\u001b[39m\u001b[38;5;241m1000\u001b[39m)\n\u001b[1;32m----> 6\u001b[0m \u001b[43mmodelo_lr\u001b[49m\u001b[38;5;241;43m.\u001b[39;49m\u001b[43mfit\u001b[49m\u001b[43m(\u001b[49m\u001b[43mX_train\u001b[49m\u001b[43m,\u001b[49m\u001b[43m \u001b[49m\u001b[43my_train\u001b[49m\u001b[43m)\u001b[49m\n\u001b[0;32m      8\u001b[0m \u001b[38;5;66;03m# Predicciones\u001b[39;00m\n\u001b[0;32m      9\u001b[0m y_pred_lr \u001b[38;5;241m=\u001b[39m modelo_lr\u001b[38;5;241m.\u001b[39mpredict(X_test)\n",
      "File \u001b[1;32mc:\\Users\\Nicole Passi\\AppData\\Local\\Programs\\Python\\Python312\\Lib\\site-packages\\sklearn\\base.py:1473\u001b[0m, in \u001b[0;36m_fit_context.<locals>.decorator.<locals>.wrapper\u001b[1;34m(estimator, *args, **kwargs)\u001b[0m\n\u001b[0;32m   1466\u001b[0m     estimator\u001b[38;5;241m.\u001b[39m_validate_params()\n\u001b[0;32m   1468\u001b[0m \u001b[38;5;28;01mwith\u001b[39;00m config_context(\n\u001b[0;32m   1469\u001b[0m     skip_parameter_validation\u001b[38;5;241m=\u001b[39m(\n\u001b[0;32m   1470\u001b[0m         prefer_skip_nested_validation \u001b[38;5;129;01mor\u001b[39;00m global_skip_validation\n\u001b[0;32m   1471\u001b[0m     )\n\u001b[0;32m   1472\u001b[0m ):\n\u001b[1;32m-> 1473\u001b[0m     \u001b[38;5;28;01mreturn\u001b[39;00m \u001b[43mfit_method\u001b[49m\u001b[43m(\u001b[49m\u001b[43mestimator\u001b[49m\u001b[43m,\u001b[49m\u001b[43m \u001b[49m\u001b[38;5;241;43m*\u001b[39;49m\u001b[43margs\u001b[49m\u001b[43m,\u001b[49m\u001b[43m \u001b[49m\u001b[38;5;241;43m*\u001b[39;49m\u001b[38;5;241;43m*\u001b[39;49m\u001b[43mkwargs\u001b[49m\u001b[43m)\u001b[49m\n",
      "File \u001b[1;32mc:\\Users\\Nicole Passi\\AppData\\Local\\Programs\\Python\\Python312\\Lib\\site-packages\\sklearn\\linear_model\\_logistic.py:1231\u001b[0m, in \u001b[0;36mLogisticRegression.fit\u001b[1;34m(self, X, y, sample_weight)\u001b[0m\n\u001b[0;32m   1221\u001b[0m     _dtype \u001b[38;5;241m=\u001b[39m [np\u001b[38;5;241m.\u001b[39mfloat64, np\u001b[38;5;241m.\u001b[39mfloat32]\n\u001b[0;32m   1223\u001b[0m X, y \u001b[38;5;241m=\u001b[39m \u001b[38;5;28mself\u001b[39m\u001b[38;5;241m.\u001b[39m_validate_data(\n\u001b[0;32m   1224\u001b[0m     X,\n\u001b[0;32m   1225\u001b[0m     y,\n\u001b[1;32m   (...)\u001b[0m\n\u001b[0;32m   1229\u001b[0m     accept_large_sparse\u001b[38;5;241m=\u001b[39msolver \u001b[38;5;129;01mnot\u001b[39;00m \u001b[38;5;129;01min\u001b[39;00m [\u001b[38;5;124m\"\u001b[39m\u001b[38;5;124mliblinear\u001b[39m\u001b[38;5;124m\"\u001b[39m, \u001b[38;5;124m\"\u001b[39m\u001b[38;5;124msag\u001b[39m\u001b[38;5;124m\"\u001b[39m, \u001b[38;5;124m\"\u001b[39m\u001b[38;5;124msaga\u001b[39m\u001b[38;5;124m\"\u001b[39m],\n\u001b[0;32m   1230\u001b[0m )\n\u001b[1;32m-> 1231\u001b[0m \u001b[43mcheck_classification_targets\u001b[49m\u001b[43m(\u001b[49m\u001b[43my\u001b[49m\u001b[43m)\u001b[49m\n\u001b[0;32m   1232\u001b[0m \u001b[38;5;28mself\u001b[39m\u001b[38;5;241m.\u001b[39mclasses_ \u001b[38;5;241m=\u001b[39m np\u001b[38;5;241m.\u001b[39munique(y)\n\u001b[0;32m   1234\u001b[0m \u001b[38;5;66;03m# TODO(1.7) remove multi_class\u001b[39;00m\n",
      "File \u001b[1;32mc:\\Users\\Nicole Passi\\AppData\\Local\\Programs\\Python\\Python312\\Lib\\site-packages\\sklearn\\utils\\multiclass.py:219\u001b[0m, in \u001b[0;36mcheck_classification_targets\u001b[1;34m(y)\u001b[0m\n\u001b[0;32m    211\u001b[0m y_type \u001b[38;5;241m=\u001b[39m type_of_target(y, input_name\u001b[38;5;241m=\u001b[39m\u001b[38;5;124m\"\u001b[39m\u001b[38;5;124my\u001b[39m\u001b[38;5;124m\"\u001b[39m)\n\u001b[0;32m    212\u001b[0m \u001b[38;5;28;01mif\u001b[39;00m y_type \u001b[38;5;129;01mnot\u001b[39;00m \u001b[38;5;129;01min\u001b[39;00m [\n\u001b[0;32m    213\u001b[0m     \u001b[38;5;124m\"\u001b[39m\u001b[38;5;124mbinary\u001b[39m\u001b[38;5;124m\"\u001b[39m,\n\u001b[0;32m    214\u001b[0m     \u001b[38;5;124m\"\u001b[39m\u001b[38;5;124mmulticlass\u001b[39m\u001b[38;5;124m\"\u001b[39m,\n\u001b[1;32m   (...)\u001b[0m\n\u001b[0;32m    217\u001b[0m     \u001b[38;5;124m\"\u001b[39m\u001b[38;5;124mmultilabel-sequences\u001b[39m\u001b[38;5;124m\"\u001b[39m,\n\u001b[0;32m    218\u001b[0m ]:\n\u001b[1;32m--> 219\u001b[0m     \u001b[38;5;28;01mraise\u001b[39;00m \u001b[38;5;167;01mValueError\u001b[39;00m(\n\u001b[0;32m    220\u001b[0m         \u001b[38;5;124mf\u001b[39m\u001b[38;5;124m\"\u001b[39m\u001b[38;5;124mUnknown label type: \u001b[39m\u001b[38;5;132;01m{\u001b[39;00my_type\u001b[38;5;132;01m}\u001b[39;00m\u001b[38;5;124m. Maybe you are trying to fit a \u001b[39m\u001b[38;5;124m\"\u001b[39m\n\u001b[0;32m    221\u001b[0m         \u001b[38;5;124m\"\u001b[39m\u001b[38;5;124mclassifier, which expects discrete classes on a \u001b[39m\u001b[38;5;124m\"\u001b[39m\n\u001b[0;32m    222\u001b[0m         \u001b[38;5;124m\"\u001b[39m\u001b[38;5;124mregression target with continuous values.\u001b[39m\u001b[38;5;124m\"\u001b[39m\n\u001b[0;32m    223\u001b[0m     )\n",
      "\u001b[1;31mValueError\u001b[0m: Unknown label type: continuous. Maybe you are trying to fit a classifier, which expects discrete classes on a regression target with continuous values."
     ]
    }
   ],
   "source": [
    "from sklearn.linear_model import LogisticRegression\n",
    "from sklearn.metrics import accuracy_score, recall_score, precision_score, f1_score, roc_auc_score\n",
    "\n",
    "# Entrenamiento del modelo\n",
    "modelo_lr = LogisticRegression(max_iter=1000)\n",
    "modelo_lr.fit(X_train, y_train)\n",
    "\n",
    "# Predicciones\n",
    "y_pred_lr = modelo_lr.predict(X_test)\n",
    "\n",
    "# Calcular métricas\n",
    "print(\"Score del modelo (accuracy):\", round(modelo_lr.score(X_test, y_test), 3))\n",
    "print(\"Accuracy score:\", round(accuracy_score(y_test, y_pred_lr), 3))\n",
    "print(\"Recall score:\", round(recall_score(y_test, y_pred_lr, average='weighted'), 3))\n",
    "print(\"Precision score:\", round(precision_score(y_test, y_pred_lr, average='weighted'), 3))\n",
    "print(\"F1 score:\", round(f1_score(y_test, y_pred_lr, average='weighted'), 3))\n",
    "print(\"AUC:\", round(roc_auc_score(y_test, label_binarize(y_pred_lr, classes=[0, 1, 2]), multi_class='ovr'), 3))"
   ]
  },
  {
   "cell_type": "code",
   "execution_count": 15,
   "metadata": {},
   "outputs": [],
   "source": [
    "# Modelo 1: Regresión Lineal\n",
    "\n",
    "modelo_lr = LinearRegression()\n",
    "modelo_lr.fit(X_train, y_train)\n",
    "y_pred_lr = modelo_lr.predict(X_test)\n",
    "mse_lr = mean_squared_error(y_test, y_pred_lr)"
   ]
  },
  {
   "cell_type": "code",
   "execution_count": 16,
   "metadata": {},
   "outputs": [
    {
     "data": {
      "text/plain": [
       "0.13211702309793383"
      ]
     },
     "execution_count": 16,
     "metadata": {},
     "output_type": "execute_result"
    }
   ],
   "source": [
    "modelo_lr.score(X_test, y_test)"
   ]
  },
  {
   "cell_type": "code",
   "execution_count": 17,
   "metadata": {},
   "outputs": [
    {
     "name": "stdout",
     "output_type": "stream",
     "text": [
      "Score del modelo (accuracy): 0.148\n"
     ]
    },
    {
     "ename": "ValueError",
     "evalue": "Found input variables with inconsistent numbers of samples: [1109, 5544]",
     "output_type": "error",
     "traceback": [
      "\u001b[1;31m---------------------------------------------------------------------------\u001b[0m",
      "\u001b[1;31mValueError\u001b[0m                                Traceback (most recent call last)",
      "Cell \u001b[1;32mIn[17], line 2\u001b[0m\n\u001b[0;32m      1\u001b[0m \u001b[38;5;28mprint\u001b[39m(\u001b[38;5;124m\"\u001b[39m\u001b[38;5;124mScore del modelo (accuracy):\u001b[39m\u001b[38;5;124m\"\u001b[39m, \u001b[38;5;28mround\u001b[39m(modelo_lr\u001b[38;5;241m.\u001b[39mscore(X, y), \u001b[38;5;241m3\u001b[39m))\n\u001b[1;32m----> 2\u001b[0m \u001b[38;5;28mprint\u001b[39m(\u001b[38;5;124m\"\u001b[39m\u001b[38;5;124mAccuracy score:\u001b[39m\u001b[38;5;124m\"\u001b[39m, \u001b[38;5;28mround\u001b[39m(\u001b[43maccuracy_score\u001b[49m\u001b[43m(\u001b[49m\u001b[43my_pred_lr\u001b[49m\u001b[43m,\u001b[49m\u001b[43m \u001b[49m\u001b[43my\u001b[49m\u001b[43m)\u001b[49m, \u001b[38;5;241m3\u001b[39m))\n\u001b[0;32m      3\u001b[0m \u001b[38;5;28mprint\u001b[39m(\u001b[38;5;124m\"\u001b[39m\u001b[38;5;124mRecall score:\u001b[39m\u001b[38;5;124m\"\u001b[39m, \u001b[38;5;28mround\u001b[39m(recall_score(y_pred_lr, y), \u001b[38;5;241m3\u001b[39m))\n\u001b[0;32m      4\u001b[0m \u001b[38;5;28mprint\u001b[39m(\u001b[38;5;124m\"\u001b[39m\u001b[38;5;124mPrecision score:\u001b[39m\u001b[38;5;124m\"\u001b[39m, \u001b[38;5;28mround\u001b[39m(precision_score(y_pred_lr, y), \u001b[38;5;241m3\u001b[39m))\n",
      "File \u001b[1;32mc:\\Users\\Nicole Passi\\AppData\\Local\\Programs\\Python\\Python312\\Lib\\site-packages\\sklearn\\utils\\_param_validation.py:213\u001b[0m, in \u001b[0;36mvalidate_params.<locals>.decorator.<locals>.wrapper\u001b[1;34m(*args, **kwargs)\u001b[0m\n\u001b[0;32m    207\u001b[0m \u001b[38;5;28;01mtry\u001b[39;00m:\n\u001b[0;32m    208\u001b[0m     \u001b[38;5;28;01mwith\u001b[39;00m config_context(\n\u001b[0;32m    209\u001b[0m         skip_parameter_validation\u001b[38;5;241m=\u001b[39m(\n\u001b[0;32m    210\u001b[0m             prefer_skip_nested_validation \u001b[38;5;129;01mor\u001b[39;00m global_skip_validation\n\u001b[0;32m    211\u001b[0m         )\n\u001b[0;32m    212\u001b[0m     ):\n\u001b[1;32m--> 213\u001b[0m         \u001b[38;5;28;01mreturn\u001b[39;00m \u001b[43mfunc\u001b[49m\u001b[43m(\u001b[49m\u001b[38;5;241;43m*\u001b[39;49m\u001b[43margs\u001b[49m\u001b[43m,\u001b[49m\u001b[43m \u001b[49m\u001b[38;5;241;43m*\u001b[39;49m\u001b[38;5;241;43m*\u001b[39;49m\u001b[43mkwargs\u001b[49m\u001b[43m)\u001b[49m\n\u001b[0;32m    214\u001b[0m \u001b[38;5;28;01mexcept\u001b[39;00m InvalidParameterError \u001b[38;5;28;01mas\u001b[39;00m e:\n\u001b[0;32m    215\u001b[0m     \u001b[38;5;66;03m# When the function is just a wrapper around an estimator, we allow\u001b[39;00m\n\u001b[0;32m    216\u001b[0m     \u001b[38;5;66;03m# the function to delegate validation to the estimator, but we replace\u001b[39;00m\n\u001b[0;32m    217\u001b[0m     \u001b[38;5;66;03m# the name of the estimator by the name of the function in the error\u001b[39;00m\n\u001b[0;32m    218\u001b[0m     \u001b[38;5;66;03m# message to avoid confusion.\u001b[39;00m\n\u001b[0;32m    219\u001b[0m     msg \u001b[38;5;241m=\u001b[39m re\u001b[38;5;241m.\u001b[39msub(\n\u001b[0;32m    220\u001b[0m         \u001b[38;5;124mr\u001b[39m\u001b[38;5;124m\"\u001b[39m\u001b[38;5;124mparameter of \u001b[39m\u001b[38;5;124m\\\u001b[39m\u001b[38;5;124mw+ must be\u001b[39m\u001b[38;5;124m\"\u001b[39m,\n\u001b[0;32m    221\u001b[0m         \u001b[38;5;124mf\u001b[39m\u001b[38;5;124m\"\u001b[39m\u001b[38;5;124mparameter of \u001b[39m\u001b[38;5;132;01m{\u001b[39;00mfunc\u001b[38;5;241m.\u001b[39m\u001b[38;5;18m__qualname__\u001b[39m\u001b[38;5;132;01m}\u001b[39;00m\u001b[38;5;124m must be\u001b[39m\u001b[38;5;124m\"\u001b[39m,\n\u001b[0;32m    222\u001b[0m         \u001b[38;5;28mstr\u001b[39m(e),\n\u001b[0;32m    223\u001b[0m     )\n",
      "File \u001b[1;32mc:\\Users\\Nicole Passi\\AppData\\Local\\Programs\\Python\\Python312\\Lib\\site-packages\\sklearn\\metrics\\_classification.py:231\u001b[0m, in \u001b[0;36maccuracy_score\u001b[1;34m(y_true, y_pred, normalize, sample_weight)\u001b[0m\n\u001b[0;32m    229\u001b[0m xp, _, device \u001b[38;5;241m=\u001b[39m get_namespace_and_device(y_true, y_pred, sample_weight)\n\u001b[0;32m    230\u001b[0m \u001b[38;5;66;03m# Compute accuracy for each possible representation\u001b[39;00m\n\u001b[1;32m--> 231\u001b[0m y_type, y_true, y_pred \u001b[38;5;241m=\u001b[39m \u001b[43m_check_targets\u001b[49m\u001b[43m(\u001b[49m\u001b[43my_true\u001b[49m\u001b[43m,\u001b[49m\u001b[43m \u001b[49m\u001b[43my_pred\u001b[49m\u001b[43m)\u001b[49m\n\u001b[0;32m    232\u001b[0m check_consistent_length(y_true, y_pred, sample_weight)\n\u001b[0;32m    233\u001b[0m \u001b[38;5;28;01mif\u001b[39;00m y_type\u001b[38;5;241m.\u001b[39mstartswith(\u001b[38;5;124m\"\u001b[39m\u001b[38;5;124mmultilabel\u001b[39m\u001b[38;5;124m\"\u001b[39m):\n",
      "File \u001b[1;32mc:\\Users\\Nicole Passi\\AppData\\Local\\Programs\\Python\\Python312\\Lib\\site-packages\\sklearn\\metrics\\_classification.py:103\u001b[0m, in \u001b[0;36m_check_targets\u001b[1;34m(y_true, y_pred)\u001b[0m\n\u001b[0;32m     76\u001b[0m \u001b[38;5;250m\u001b[39m\u001b[38;5;124;03m\"\"\"Check that y_true and y_pred belong to the same classification task.\u001b[39;00m\n\u001b[0;32m     77\u001b[0m \n\u001b[0;32m     78\u001b[0m \u001b[38;5;124;03mThis converts multiclass or binary types to a common shape, and raises a\u001b[39;00m\n\u001b[1;32m   (...)\u001b[0m\n\u001b[0;32m    100\u001b[0m \u001b[38;5;124;03my_pred : array or indicator matrix\u001b[39;00m\n\u001b[0;32m    101\u001b[0m \u001b[38;5;124;03m\"\"\"\u001b[39;00m\n\u001b[0;32m    102\u001b[0m xp, _ \u001b[38;5;241m=\u001b[39m get_namespace(y_true, y_pred)\n\u001b[1;32m--> 103\u001b[0m \u001b[43mcheck_consistent_length\u001b[49m\u001b[43m(\u001b[49m\u001b[43my_true\u001b[49m\u001b[43m,\u001b[49m\u001b[43m \u001b[49m\u001b[43my_pred\u001b[49m\u001b[43m)\u001b[49m\n\u001b[0;32m    104\u001b[0m type_true \u001b[38;5;241m=\u001b[39m type_of_target(y_true, input_name\u001b[38;5;241m=\u001b[39m\u001b[38;5;124m\"\u001b[39m\u001b[38;5;124my_true\u001b[39m\u001b[38;5;124m\"\u001b[39m)\n\u001b[0;32m    105\u001b[0m type_pred \u001b[38;5;241m=\u001b[39m type_of_target(y_pred, input_name\u001b[38;5;241m=\u001b[39m\u001b[38;5;124m\"\u001b[39m\u001b[38;5;124my_pred\u001b[39m\u001b[38;5;124m\"\u001b[39m)\n",
      "File \u001b[1;32mc:\\Users\\Nicole Passi\\AppData\\Local\\Programs\\Python\\Python312\\Lib\\site-packages\\sklearn\\utils\\validation.py:457\u001b[0m, in \u001b[0;36mcheck_consistent_length\u001b[1;34m(*arrays)\u001b[0m\n\u001b[0;32m    455\u001b[0m uniques \u001b[38;5;241m=\u001b[39m np\u001b[38;5;241m.\u001b[39munique(lengths)\n\u001b[0;32m    456\u001b[0m \u001b[38;5;28;01mif\u001b[39;00m \u001b[38;5;28mlen\u001b[39m(uniques) \u001b[38;5;241m>\u001b[39m \u001b[38;5;241m1\u001b[39m:\n\u001b[1;32m--> 457\u001b[0m     \u001b[38;5;28;01mraise\u001b[39;00m \u001b[38;5;167;01mValueError\u001b[39;00m(\n\u001b[0;32m    458\u001b[0m         \u001b[38;5;124m\"\u001b[39m\u001b[38;5;124mFound input variables with inconsistent numbers of samples: \u001b[39m\u001b[38;5;132;01m%r\u001b[39;00m\u001b[38;5;124m\"\u001b[39m\n\u001b[0;32m    459\u001b[0m         \u001b[38;5;241m%\u001b[39m [\u001b[38;5;28mint\u001b[39m(l) \u001b[38;5;28;01mfor\u001b[39;00m l \u001b[38;5;129;01min\u001b[39;00m lengths]\n\u001b[0;32m    460\u001b[0m     )\n",
      "\u001b[1;31mValueError\u001b[0m: Found input variables with inconsistent numbers of samples: [1109, 5544]"
     ]
    }
   ],
   "source": [
    "print(\"Score del modelo (accuracy):\", round(modelo_lr.score(X, y), 3))\n",
    "print(\"Accuracy score:\", round(accuracy_score(y_pred_lr, y), 3))\n",
    "print(\"Recall score:\", round(recall_score(y_pred_lr, y), 3))\n",
    "print(\"Precision score:\", round(precision_score(y_pred_lr, y), 3))\n",
    "print(\"F1 score:\", round(f1_score(y_pred_lr, y), 3))\n",
    "print(\"AUC:\", round(roc_auc_score(y_pred_lr, y), 3))"
   ]
  },
  {
   "cell_type": "code",
   "execution_count": 18,
   "metadata": {},
   "outputs": [
    {
     "ename": "AttributeError",
     "evalue": "'LinearRegression' object has no attribute 'predict_proba'",
     "output_type": "error",
     "traceback": [
      "\u001b[1;31m---------------------------------------------------------------------------\u001b[0m",
      "\u001b[1;31mAttributeError\u001b[0m                            Traceback (most recent call last)",
      "Cell \u001b[1;32mIn[18], line 1\u001b[0m\n\u001b[1;32m----> 1\u001b[0m y_pred_prob \u001b[38;5;241m=\u001b[39m \u001b[43mmodelo_lr\u001b[49m\u001b[38;5;241;43m.\u001b[39;49m\u001b[43mpredict_proba\u001b[49m(X)[:, \u001b[38;5;241m1\u001b[39m]\n\u001b[0;32m      2\u001b[0m fpr, tpr, thresholds \u001b[38;5;241m=\u001b[39m roc_curve(y, y_pred_prob)\n\u001b[0;32m      3\u001b[0m plt\u001b[38;5;241m.\u001b[39mplot(fpr, tpr)\n",
      "\u001b[1;31mAttributeError\u001b[0m: 'LinearRegression' object has no attribute 'predict_proba'"
     ]
    }
   ],
   "source": [
    "y_pred_prob = modelo_lr.predict_proba(X)[:, 1]\n",
    "fpr, tpr, thresholds = roc_curve(y, y_pred_prob)\n",
    "plt.plot(fpr, tpr)\n",
    "plt.xlim([0.0, 1.0])\n",
    "plt.ylim([0.0, 1.0])\n",
    "plt.title('ROC curve for titanic classifier')\n",
    "plt.xlabel('False Positive Rate (1 - Specificity)')\n",
    "plt.ylabel('True Positive Rate (Sensitivity)')\n",
    "plt.grid(True)"
   ]
  },
  {
   "cell_type": "code",
   "execution_count": 19,
   "metadata": {},
   "outputs": [],
   "source": [
    "# Modelo 2: Árbol de Decisión\n",
    "modelo_dt = DecisionTreeRegressor(random_state=42)\n",
    "modelo_dt.fit(X_train, y_train)\n",
    "y_pred_dt = modelo_dt.predict(X_test)\n",
    "mse_dt = mean_squared_error(y_test, y_pred_dt)"
   ]
  },
  {
   "cell_type": "code",
   "execution_count": null,
   "metadata": {},
   "outputs": [
    {
     "data": {
      "text/plain": [
       "0.9833004473440569"
      ]
     },
     "execution_count": 23,
     "metadata": {},
     "output_type": "execute_result"
    }
   ],
   "source": [
    "modelo_dt.score(X_test, y_test)"
   ]
  },
  {
   "cell_type": "code",
   "execution_count": 21,
   "metadata": {},
   "outputs": [
    {
     "ename": "ValueError",
     "evalue": "Unknown label type: continuous. Maybe you are trying to fit a classifier, which expects discrete classes on a regression target with continuous values.",
     "output_type": "error",
     "traceback": [
      "\u001b[1;31m---------------------------------------------------------------------------\u001b[0m",
      "\u001b[1;31mValueError\u001b[0m                                Traceback (most recent call last)",
      "Cell \u001b[1;32mIn[21], line 5\u001b[0m\n\u001b[0;32m      3\u001b[0m \u001b[38;5;66;03m# Modelo Random Forest\u001b[39;00m\n\u001b[0;32m      4\u001b[0m modelo_rf \u001b[38;5;241m=\u001b[39m RandomForestClassifier(n_estimators\u001b[38;5;241m=\u001b[39m\u001b[38;5;241m100\u001b[39m, random_state\u001b[38;5;241m=\u001b[39m\u001b[38;5;241m42\u001b[39m)\n\u001b[1;32m----> 5\u001b[0m \u001b[43mmodelo_rf\u001b[49m\u001b[38;5;241;43m.\u001b[39;49m\u001b[43mfit\u001b[49m\u001b[43m(\u001b[49m\u001b[43mX_train\u001b[49m\u001b[43m,\u001b[49m\u001b[43m \u001b[49m\u001b[43my_train\u001b[49m\u001b[43m)\u001b[49m\n\u001b[0;32m      7\u001b[0m \u001b[38;5;66;03m# Predicciones\u001b[39;00m\n\u001b[0;32m      8\u001b[0m y_pred_rf \u001b[38;5;241m=\u001b[39m modelo_rf\u001b[38;5;241m.\u001b[39mpredict(X_test)\n",
      "File \u001b[1;32mc:\\Users\\Nicole Passi\\AppData\\Local\\Programs\\Python\\Python312\\Lib\\site-packages\\sklearn\\base.py:1473\u001b[0m, in \u001b[0;36m_fit_context.<locals>.decorator.<locals>.wrapper\u001b[1;34m(estimator, *args, **kwargs)\u001b[0m\n\u001b[0;32m   1466\u001b[0m     estimator\u001b[38;5;241m.\u001b[39m_validate_params()\n\u001b[0;32m   1468\u001b[0m \u001b[38;5;28;01mwith\u001b[39;00m config_context(\n\u001b[0;32m   1469\u001b[0m     skip_parameter_validation\u001b[38;5;241m=\u001b[39m(\n\u001b[0;32m   1470\u001b[0m         prefer_skip_nested_validation \u001b[38;5;129;01mor\u001b[39;00m global_skip_validation\n\u001b[0;32m   1471\u001b[0m     )\n\u001b[0;32m   1472\u001b[0m ):\n\u001b[1;32m-> 1473\u001b[0m     \u001b[38;5;28;01mreturn\u001b[39;00m \u001b[43mfit_method\u001b[49m\u001b[43m(\u001b[49m\u001b[43mestimator\u001b[49m\u001b[43m,\u001b[49m\u001b[43m \u001b[49m\u001b[38;5;241;43m*\u001b[39;49m\u001b[43margs\u001b[49m\u001b[43m,\u001b[49m\u001b[43m \u001b[49m\u001b[38;5;241;43m*\u001b[39;49m\u001b[38;5;241;43m*\u001b[39;49m\u001b[43mkwargs\u001b[49m\u001b[43m)\u001b[49m\n",
      "File \u001b[1;32mc:\\Users\\Nicole Passi\\AppData\\Local\\Programs\\Python\\Python312\\Lib\\site-packages\\sklearn\\ensemble\\_forest.py:421\u001b[0m, in \u001b[0;36mBaseForest.fit\u001b[1;34m(self, X, y, sample_weight)\u001b[0m\n\u001b[0;32m    414\u001b[0m         \u001b[38;5;28;01mraise\u001b[39;00m \u001b[38;5;167;01mValueError\u001b[39;00m(\n\u001b[0;32m    415\u001b[0m             \u001b[38;5;124m\"\u001b[39m\u001b[38;5;124mSum of y is not strictly positive which \u001b[39m\u001b[38;5;124m\"\u001b[39m\n\u001b[0;32m    416\u001b[0m             \u001b[38;5;124m\"\u001b[39m\u001b[38;5;124mis necessary for Poisson regression.\u001b[39m\u001b[38;5;124m\"\u001b[39m\n\u001b[0;32m    417\u001b[0m         )\n\u001b[0;32m    419\u001b[0m \u001b[38;5;28mself\u001b[39m\u001b[38;5;241m.\u001b[39m_n_samples, \u001b[38;5;28mself\u001b[39m\u001b[38;5;241m.\u001b[39mn_outputs_ \u001b[38;5;241m=\u001b[39m y\u001b[38;5;241m.\u001b[39mshape\n\u001b[1;32m--> 421\u001b[0m y, expanded_class_weight \u001b[38;5;241m=\u001b[39m \u001b[38;5;28;43mself\u001b[39;49m\u001b[38;5;241;43m.\u001b[39;49m\u001b[43m_validate_y_class_weight\u001b[49m\u001b[43m(\u001b[49m\u001b[43my\u001b[49m\u001b[43m)\u001b[49m\n\u001b[0;32m    423\u001b[0m \u001b[38;5;28;01mif\u001b[39;00m \u001b[38;5;28mgetattr\u001b[39m(y, \u001b[38;5;124m\"\u001b[39m\u001b[38;5;124mdtype\u001b[39m\u001b[38;5;124m\"\u001b[39m, \u001b[38;5;28;01mNone\u001b[39;00m) \u001b[38;5;241m!=\u001b[39m DOUBLE \u001b[38;5;129;01mor\u001b[39;00m \u001b[38;5;129;01mnot\u001b[39;00m y\u001b[38;5;241m.\u001b[39mflags\u001b[38;5;241m.\u001b[39mcontiguous:\n\u001b[0;32m    424\u001b[0m     y \u001b[38;5;241m=\u001b[39m np\u001b[38;5;241m.\u001b[39mascontiguousarray(y, dtype\u001b[38;5;241m=\u001b[39mDOUBLE)\n",
      "File \u001b[1;32mc:\\Users\\Nicole Passi\\AppData\\Local\\Programs\\Python\\Python312\\Lib\\site-packages\\sklearn\\ensemble\\_forest.py:831\u001b[0m, in \u001b[0;36mForestClassifier._validate_y_class_weight\u001b[1;34m(self, y)\u001b[0m\n\u001b[0;32m    830\u001b[0m \u001b[38;5;28;01mdef\u001b[39;00m \u001b[38;5;21m_validate_y_class_weight\u001b[39m(\u001b[38;5;28mself\u001b[39m, y):\n\u001b[1;32m--> 831\u001b[0m     \u001b[43mcheck_classification_targets\u001b[49m\u001b[43m(\u001b[49m\u001b[43my\u001b[49m\u001b[43m)\u001b[49m\n\u001b[0;32m    833\u001b[0m     y \u001b[38;5;241m=\u001b[39m np\u001b[38;5;241m.\u001b[39mcopy(y)\n\u001b[0;32m    834\u001b[0m     expanded_class_weight \u001b[38;5;241m=\u001b[39m \u001b[38;5;28;01mNone\u001b[39;00m\n",
      "File \u001b[1;32mc:\\Users\\Nicole Passi\\AppData\\Local\\Programs\\Python\\Python312\\Lib\\site-packages\\sklearn\\utils\\multiclass.py:219\u001b[0m, in \u001b[0;36mcheck_classification_targets\u001b[1;34m(y)\u001b[0m\n\u001b[0;32m    211\u001b[0m y_type \u001b[38;5;241m=\u001b[39m type_of_target(y, input_name\u001b[38;5;241m=\u001b[39m\u001b[38;5;124m\"\u001b[39m\u001b[38;5;124my\u001b[39m\u001b[38;5;124m\"\u001b[39m)\n\u001b[0;32m    212\u001b[0m \u001b[38;5;28;01mif\u001b[39;00m y_type \u001b[38;5;129;01mnot\u001b[39;00m \u001b[38;5;129;01min\u001b[39;00m [\n\u001b[0;32m    213\u001b[0m     \u001b[38;5;124m\"\u001b[39m\u001b[38;5;124mbinary\u001b[39m\u001b[38;5;124m\"\u001b[39m,\n\u001b[0;32m    214\u001b[0m     \u001b[38;5;124m\"\u001b[39m\u001b[38;5;124mmulticlass\u001b[39m\u001b[38;5;124m\"\u001b[39m,\n\u001b[1;32m   (...)\u001b[0m\n\u001b[0;32m    217\u001b[0m     \u001b[38;5;124m\"\u001b[39m\u001b[38;5;124mmultilabel-sequences\u001b[39m\u001b[38;5;124m\"\u001b[39m,\n\u001b[0;32m    218\u001b[0m ]:\n\u001b[1;32m--> 219\u001b[0m     \u001b[38;5;28;01mraise\u001b[39;00m \u001b[38;5;167;01mValueError\u001b[39;00m(\n\u001b[0;32m    220\u001b[0m         \u001b[38;5;124mf\u001b[39m\u001b[38;5;124m\"\u001b[39m\u001b[38;5;124mUnknown label type: \u001b[39m\u001b[38;5;132;01m{\u001b[39;00my_type\u001b[38;5;132;01m}\u001b[39;00m\u001b[38;5;124m. Maybe you are trying to fit a \u001b[39m\u001b[38;5;124m\"\u001b[39m\n\u001b[0;32m    221\u001b[0m         \u001b[38;5;124m\"\u001b[39m\u001b[38;5;124mclassifier, which expects discrete classes on a \u001b[39m\u001b[38;5;124m\"\u001b[39m\n\u001b[0;32m    222\u001b[0m         \u001b[38;5;124m\"\u001b[39m\u001b[38;5;124mregression target with continuous values.\u001b[39m\u001b[38;5;124m\"\u001b[39m\n\u001b[0;32m    223\u001b[0m     )\n",
      "\u001b[1;31mValueError\u001b[0m: Unknown label type: continuous. Maybe you are trying to fit a classifier, which expects discrete classes on a regression target with continuous values."
     ]
    }
   ],
   "source": [
    "from sklearn.ensemble import RandomForestClassifier\n",
    "\n",
    "# Modelo Random Forest\n",
    "modelo_rf = RandomForestClassifier(n_estimators=100, random_state=42)\n",
    "modelo_rf.fit(X_train, y_train)\n",
    "\n",
    "# Predicciones\n",
    "y_pred_rf = modelo_rf.predict(X_test)\n",
    "\n",
    "# Calcular métricas\n",
    "print(\"Score del modelo (accuracy):\", round(modelo_rf.score(X_test, y_test), 3))\n",
    "print(\"Accuracy score:\", round(accuracy_score(y_test, y_pred_rf), 3))\n",
    "print(\"Recall score:\", round(recall_score(y_test, y_pred_rf, average='weighted'), 3))\n",
    "print(\"Precision score:\", round(precision_score(y_test, y_pred_rf, average='weighted'), 3))\n",
    "print(\"F1 score:\", round(f1_score(y_test, y_pred_rf, average='weighted'), 3))\n",
    "print(\"AUC:\", round(roc_auc_score(y_test, label_binarize(y_pred_rf, classes=[0, 1, 2]), multi_class='ovr'), 3))\n"
   ]
  },
  {
   "cell_type": "code",
   "execution_count": 22,
   "metadata": {},
   "outputs": [
    {
     "ename": "ValueError",
     "evalue": "Invalid classes inferred from unique values of `y`.  Expected: [  0   1   2   3   4   5   6   7   8   9  10  11  12  13  14  15  16  17\n  18  19  20  21  22  23  24  25  26  27  28  29  30  31  32  33  34  35\n  36  37  38  39  40  41  42  43  44  45  46  47  48  49  50  51  52  53\n  54  55  56  57  58  59  60  61  62  63  64  65  66  67  68  69  70  71\n  72  73  74  75  76  77  78  79  80  81  82  83  84  85  86  87  88  89\n  90  91  92  93  94  95  96  97  98  99 100 101 102 103 104 105 106 107\n 108 109 110 111 112 113 114 115 116 117 118 119 120 121 122 123 124 125\n 126 127 128 129 130 131 132 133 134 135 136 137 138 139 140 141 142 143\n 144 145 146 147 148 149 150 151 152 153 154 155 156 157 158 159 160 161\n 162 163 164 165 166 167 168 169 170 171 172 173 174 175 176 177 178 179\n 180 181 182 183 184 185 186 187 188 189 190 191 192 193 194 195 196 197\n 198 199 200 201 202 203 204 205 206 207 208 209 210 211 212 213 214 215\n 216 217 218 219 220 221 222 223 224 225 226 227 228 229 230 231 232 233\n 234 235 236 237 238 239 240 241 242 243 244 245 246 247 248 249 250 251\n 252 253 254 255 256 257 258 259 260 261 262 263 264 265 266 267 268 269\n 270 271 272 273 274 275 276 277 278 279 280 281 282 283 284 285 286 287\n 288 289 290 291 292 293 294 295 296 297 298 299 300 301 302 303 304 305\n 306 307 308 309 310 311 312 313 314 315 316 317 318 319 320 321 322 323\n 324 325 326 327 328 329 330 331 332 333 334 335 336 337 338 339 340 341\n 342 343 344 345 346 347 348 349 350 351 352 353 354 355 356 357 358 359\n 360 361 362 363 364 365 366 367 368 369 370 371 372 373 374 375 376 377\n 378 379 380 381 382 383 384 385 386 387 388 389 390 391 392 393 394 395\n 396 397 398 399 400 401 402 403 404 405 406 407 408 409 410 411 412 413\n 414 415 416 417 418 419 420 421 422 423 424 425 426 427 428 429 430 431], got [-3.04357515e-01 -2.98748208e-01 -2.93138902e-01 -2.87529595e-01\n -2.81920288e-01 -2.76310981e-01 -2.70701674e-01 -2.65092367e-01\n -2.59483060e-01 -2.53873753e-01 -2.48264446e-01 -2.42655139e-01\n -2.37045832e-01 -2.31436525e-01 -2.25827218e-01 -2.20217911e-01\n -2.14608604e-01 -2.08999297e-01 -2.03389990e-01 -1.97780683e-01\n -1.92171376e-01 -1.86562069e-01 -1.80952762e-01 -1.75343455e-01\n -1.69734148e-01 -1.64124841e-01 -1.58515534e-01 -1.52906227e-01\n -1.47296920e-01 -1.41687613e-01 -1.36078306e-01 -1.30469000e-01\n -1.24859693e-01 -1.19250386e-01 -1.13641079e-01 -1.08031772e-01\n -1.02422465e-01 -9.68131577e-02 -9.12038507e-02 -8.55945438e-02\n -7.99852368e-02 -7.43759298e-02 -6.87666229e-02 -6.31573159e-02\n -5.75480089e-02 -5.19387020e-02 -4.63293950e-02 -4.07200881e-02\n -3.51107811e-02 -2.95014741e-02 -2.38921672e-02 -1.82828602e-02\n -1.26735532e-02 -7.06424625e-03 -1.45493929e-03  4.15436768e-03\n  9.76367464e-03  1.53729816e-02  2.09822886e-02  2.65915955e-02\n  3.22009025e-02  3.78102095e-02  4.34195164e-02  4.90288234e-02\n  5.46381304e-02  6.02474373e-02  6.58567443e-02  7.14660513e-02\n  7.70753582e-02  8.26846652e-02  9.39032791e-02  9.95125861e-02\n  1.05121893e-01  1.10731200e-01  1.16340507e-01  1.21949814e-01\n  1.27559121e-01  1.33168428e-01  1.38777735e-01  1.44387042e-01\n  1.49996349e-01  1.55605656e-01  1.61214963e-01  1.66824270e-01\n  1.72433577e-01  1.78042884e-01  1.83652191e-01  1.89261498e-01\n  1.94870805e-01  2.00480111e-01  2.06089418e-01  2.11698725e-01\n  2.17308032e-01  2.22917339e-01  2.28526646e-01  2.34135953e-01\n  2.39745260e-01  2.45354567e-01  2.50963874e-01  2.56573181e-01\n  2.62182488e-01  2.67791795e-01  2.73401102e-01  2.79010409e-01\n  2.84619716e-01  2.95838330e-01  3.01447637e-01  3.07056944e-01\n  3.12666251e-01  3.23884865e-01  3.29494172e-01  3.35103479e-01\n  3.40712786e-01  3.46322093e-01  3.51931400e-01  3.57540707e-01\n  3.63150013e-01  3.74368627e-01  3.79977934e-01  3.85587241e-01\n  3.91196548e-01  3.96805855e-01  4.02415162e-01  4.08024469e-01\n  4.13633776e-01  4.24852390e-01  4.30461697e-01  4.41680311e-01\n  4.47289618e-01  4.52898925e-01  4.58508232e-01  4.64117539e-01\n  4.69726846e-01  4.75336153e-01  4.80945460e-01  4.86554767e-01\n  4.92164074e-01  5.03382688e-01  5.08991995e-01  5.20210609e-01\n  5.25819916e-01  5.37038529e-01  5.42647836e-01  5.53866450e-01\n  5.65085064e-01  5.70694371e-01  5.76303678e-01  5.81912985e-01\n  5.87522292e-01  5.93131599e-01  6.09959520e-01  6.15568827e-01\n  6.21178134e-01  6.26787441e-01  6.32396748e-01  6.38006055e-01\n  6.43615362e-01  6.49224669e-01  6.54833976e-01  6.71661897e-01\n  6.82880511e-01  6.88489818e-01  6.99708431e-01  7.16536352e-01\n  7.22145659e-01  7.33364273e-01  7.38973580e-01  7.44582887e-01\n  7.50192194e-01  7.55801501e-01  7.61410808e-01  7.67020115e-01\n  7.72629422e-01  7.78238729e-01  7.83848036e-01  8.00675957e-01\n  8.06285264e-01  8.11894571e-01  8.23113185e-01  8.28722492e-01\n  8.39941106e-01  8.45550413e-01  8.51159720e-01  8.56769026e-01\n  8.62378333e-01  8.73596947e-01  8.79206254e-01  8.84815561e-01\n  8.90424868e-01  9.01643482e-01  9.12862096e-01  9.18471403e-01\n  9.24080710e-01  9.29690017e-01  9.35299324e-01  9.52127245e-01\n  9.68955166e-01  9.80173780e-01  9.85783087e-01  1.00261101e+00\n  1.08114131e+00  1.08675061e+00  1.09235992e+00  1.10918784e+00\n  1.11479715e+00  1.12040645e+00  1.12601576e+00  1.13162507e+00\n  1.14845299e+00  1.15406230e+00  1.18771814e+00  1.19332744e+00\n  1.21015537e+00  1.21576467e+00  1.22137398e+00  1.22698329e+00\n  1.24942051e+00  1.25502982e+00  1.26063913e+00  1.27185774e+00\n  1.29990428e+00  1.31112289e+00  1.32234150e+00  1.32795081e+00\n  1.35599735e+00  1.36160665e+00  1.38404388e+00  1.39526250e+00\n  1.40087180e+00  1.40648111e+00  1.42330903e+00  1.42891834e+00\n  1.43452764e+00  1.45135556e+00  1.45696487e+00  1.46257418e+00\n  1.46818349e+00  1.47379279e+00  1.48501141e+00  1.49062071e+00\n  1.51305794e+00  1.51866725e+00  1.52427656e+00  1.54110448e+00\n  1.54671378e+00  1.55793240e+00  1.56915101e+00  1.57476032e+00\n  1.58597893e+00  1.59158824e+00  1.60280685e+00  1.60841616e+00\n  1.61963477e+00  1.62524408e+00  1.63085339e+00  1.64768131e+00\n  1.68133715e+00  1.68694646e+00  1.69255576e+00  1.69816507e+00\n  1.70377438e+00  1.71499299e+00  1.72621161e+00  1.73182091e+00\n  1.74303953e+00  1.77108606e+00  1.77669537e+00  1.79352329e+00\n  1.79913260e+00  1.83839775e+00  1.84400705e+00  1.87766289e+00\n  1.88327220e+00  1.89449082e+00  1.90010012e+00  1.91692804e+00\n  1.95058388e+00  1.96741181e+00  1.98984903e+00  2.01789557e+00\n  2.04594210e+00  2.06277002e+00  2.06837933e+00  2.07398864e+00\n  2.09081656e+00  2.12447240e+00  2.13008171e+00  2.14690963e+00\n  2.15251894e+00  2.17495616e+00  2.18056547e+00  2.18617478e+00\n  2.20861201e+00  2.21983062e+00  2.23104923e+00  2.25909577e+00\n  2.28714230e+00  2.29275161e+00  2.32640745e+00  2.34323537e+00\n  2.34884468e+00  2.36567260e+00  2.37128191e+00  2.37689121e+00\n  2.41615636e+00  2.42176567e+00  2.42737498e+00  2.43298428e+00\n  2.44420290e+00  2.44981220e+00  2.49468666e+00  2.50029597e+00\n  2.50590527e+00  2.51151458e+00  2.53395181e+00  2.55077973e+00\n  2.57321696e+00  2.59004488e+00  2.70784033e+00  2.71344963e+00\n  2.72466825e+00  2.73588686e+00  2.75271478e+00  2.80319854e+00\n  2.82002646e+00  2.83685439e+00  2.84246369e+00  2.86490092e+00\n  2.88172884e+00  2.90977538e+00  2.92660330e+00  2.93782191e+00\n  2.95464983e+00  3.00513359e+00  3.06122666e+00  3.08366389e+00\n  3.09488251e+00  3.10049181e+00  3.13975696e+00  3.14536627e+00\n  3.19585003e+00  3.20706865e+00  3.22389657e+00  3.23511518e+00\n  3.24072449e+00  3.25194310e+00  3.34730132e+00  3.39778508e+00\n  3.41461300e+00  3.42583162e+00  3.43144092e+00  3.43705023e+00\n  3.45387815e+00  3.45948746e+00  3.50997122e+00  3.51558053e+00\n  3.53240845e+00  3.54362706e+00  3.56606429e+00  3.78482726e+00\n  3.82409241e+00  3.90262271e+00  3.95871578e+00  4.21113459e+00\n  4.42989756e+00  4.48038133e+00  4.53086509e+00  4.80011182e+00\n  4.87303281e+00  4.90107935e+00  4.91790727e+00  4.96839103e+00\n  4.98521895e+00  5.03570272e+00  5.05253064e+00  5.05813994e+00\n  5.07496786e+00  5.08057717e+00  5.09740509e+00  5.11423301e+00\n  5.14788886e+00  5.15349816e+00  5.22080985e+00  5.22641915e+00\n  5.33299599e+00  5.64711718e+00  5.66394510e+00  6.18000134e+00\n  6.38193639e+00  6.60069936e+00  6.68483896e+00  6.72410411e+00\n  6.72971342e+00  6.75775995e+00  6.76897857e+00  6.77458788e+00\n  6.83068095e+00  6.84189956e+00  6.84750887e+00  6.85872748e+00\n  6.87555540e+00  6.90360194e+00  6.90921124e+00  6.95969501e+00\n  6.99335085e+00  7.01578808e+00  7.08309976e+00  7.11114629e+00\n  7.18406728e+00  7.19528590e+00  7.20650451e+00  7.22894174e+00\n  7.35795580e+00  7.36356511e+00  7.40283026e+00  7.41404887e+00\n  7.45892333e+00  7.55989085e+00  7.63281184e+00  7.83474689e+00\n  7.90766788e+00  7.94693303e+00  8.08155640e+00  8.24422630e+00\n  8.28910076e+00  8.31714729e+00  8.95660829e+00  9.00709205e+00\n  9.05757581e+00  9.59606928e+00  9.79800433e+00  9.96067423e+00]",
     "output_type": "error",
     "traceback": [
      "\u001b[1;31m---------------------------------------------------------------------------\u001b[0m",
      "\u001b[1;31mValueError\u001b[0m                                Traceback (most recent call last)",
      "Cell \u001b[1;32mIn[22], line 5\u001b[0m\n\u001b[0;32m      3\u001b[0m \u001b[38;5;66;03m# Modelo XGBoost\u001b[39;00m\n\u001b[0;32m      4\u001b[0m modelo_xgb \u001b[38;5;241m=\u001b[39m XGBClassifier(use_label_encoder\u001b[38;5;241m=\u001b[39m\u001b[38;5;28;01mFalse\u001b[39;00m, eval_metric\u001b[38;5;241m=\u001b[39m\u001b[38;5;124m'\u001b[39m\u001b[38;5;124mmlogloss\u001b[39m\u001b[38;5;124m'\u001b[39m)\n\u001b[1;32m----> 5\u001b[0m \u001b[43mmodelo_xgb\u001b[49m\u001b[38;5;241;43m.\u001b[39;49m\u001b[43mfit\u001b[49m\u001b[43m(\u001b[49m\u001b[43mX_train\u001b[49m\u001b[43m,\u001b[49m\u001b[43m \u001b[49m\u001b[43my_train\u001b[49m\u001b[43m)\u001b[49m\n\u001b[0;32m      7\u001b[0m \u001b[38;5;66;03m# Predicciones\u001b[39;00m\n\u001b[0;32m      8\u001b[0m y_pred_xgb \u001b[38;5;241m=\u001b[39m modelo_xgb\u001b[38;5;241m.\u001b[39mpredict(X_test)\n",
      "File \u001b[1;32mc:\\Users\\Nicole Passi\\AppData\\Local\\Programs\\Python\\Python312\\Lib\\site-packages\\xgboost\\core.py:726\u001b[0m, in \u001b[0;36mrequire_keyword_args.<locals>.throw_if.<locals>.inner_f\u001b[1;34m(*args, **kwargs)\u001b[0m\n\u001b[0;32m    724\u001b[0m \u001b[38;5;28;01mfor\u001b[39;00m k, arg \u001b[38;5;129;01min\u001b[39;00m \u001b[38;5;28mzip\u001b[39m(sig\u001b[38;5;241m.\u001b[39mparameters, args):\n\u001b[0;32m    725\u001b[0m     kwargs[k] \u001b[38;5;241m=\u001b[39m arg\n\u001b[1;32m--> 726\u001b[0m \u001b[38;5;28;01mreturn\u001b[39;00m \u001b[43mfunc\u001b[49m\u001b[43m(\u001b[49m\u001b[38;5;241;43m*\u001b[39;49m\u001b[38;5;241;43m*\u001b[39;49m\u001b[43mkwargs\u001b[49m\u001b[43m)\u001b[49m\n",
      "File \u001b[1;32mc:\\Users\\Nicole Passi\\AppData\\Local\\Programs\\Python\\Python312\\Lib\\site-packages\\xgboost\\sklearn.py:1491\u001b[0m, in \u001b[0;36mXGBClassifier.fit\u001b[1;34m(self, X, y, sample_weight, base_margin, eval_set, verbose, xgb_model, sample_weight_eval_set, base_margin_eval_set, feature_weights)\u001b[0m\n\u001b[0;32m   1486\u001b[0m     expected_classes \u001b[38;5;241m=\u001b[39m \u001b[38;5;28mself\u001b[39m\u001b[38;5;241m.\u001b[39mclasses_\n\u001b[0;32m   1487\u001b[0m \u001b[38;5;28;01mif\u001b[39;00m (\n\u001b[0;32m   1488\u001b[0m     classes\u001b[38;5;241m.\u001b[39mshape \u001b[38;5;241m!=\u001b[39m expected_classes\u001b[38;5;241m.\u001b[39mshape\n\u001b[0;32m   1489\u001b[0m     \u001b[38;5;129;01mor\u001b[39;00m \u001b[38;5;129;01mnot\u001b[39;00m (classes \u001b[38;5;241m==\u001b[39m expected_classes)\u001b[38;5;241m.\u001b[39mall()\n\u001b[0;32m   1490\u001b[0m ):\n\u001b[1;32m-> 1491\u001b[0m     \u001b[38;5;28;01mraise\u001b[39;00m \u001b[38;5;167;01mValueError\u001b[39;00m(\n\u001b[0;32m   1492\u001b[0m         \u001b[38;5;124mf\u001b[39m\u001b[38;5;124m\"\u001b[39m\u001b[38;5;124mInvalid classes inferred from unique values of `y`.  \u001b[39m\u001b[38;5;124m\"\u001b[39m\n\u001b[0;32m   1493\u001b[0m         \u001b[38;5;124mf\u001b[39m\u001b[38;5;124m\"\u001b[39m\u001b[38;5;124mExpected: \u001b[39m\u001b[38;5;132;01m{\u001b[39;00mexpected_classes\u001b[38;5;132;01m}\u001b[39;00m\u001b[38;5;124m, got \u001b[39m\u001b[38;5;132;01m{\u001b[39;00mclasses\u001b[38;5;132;01m}\u001b[39;00m\u001b[38;5;124m\"\u001b[39m\n\u001b[0;32m   1494\u001b[0m     )\n\u001b[0;32m   1496\u001b[0m params \u001b[38;5;241m=\u001b[39m \u001b[38;5;28mself\u001b[39m\u001b[38;5;241m.\u001b[39mget_xgb_params()\n\u001b[0;32m   1498\u001b[0m \u001b[38;5;28;01mif\u001b[39;00m \u001b[38;5;28mcallable\u001b[39m(\u001b[38;5;28mself\u001b[39m\u001b[38;5;241m.\u001b[39mobjective):\n",
      "\u001b[1;31mValueError\u001b[0m: Invalid classes inferred from unique values of `y`.  Expected: [  0   1   2   3   4   5   6   7   8   9  10  11  12  13  14  15  16  17\n  18  19  20  21  22  23  24  25  26  27  28  29  30  31  32  33  34  35\n  36  37  38  39  40  41  42  43  44  45  46  47  48  49  50  51  52  53\n  54  55  56  57  58  59  60  61  62  63  64  65  66  67  68  69  70  71\n  72  73  74  75  76  77  78  79  80  81  82  83  84  85  86  87  88  89\n  90  91  92  93  94  95  96  97  98  99 100 101 102 103 104 105 106 107\n 108 109 110 111 112 113 114 115 116 117 118 119 120 121 122 123 124 125\n 126 127 128 129 130 131 132 133 134 135 136 137 138 139 140 141 142 143\n 144 145 146 147 148 149 150 151 152 153 154 155 156 157 158 159 160 161\n 162 163 164 165 166 167 168 169 170 171 172 173 174 175 176 177 178 179\n 180 181 182 183 184 185 186 187 188 189 190 191 192 193 194 195 196 197\n 198 199 200 201 202 203 204 205 206 207 208 209 210 211 212 213 214 215\n 216 217 218 219 220 221 222 223 224 225 226 227 228 229 230 231 232 233\n 234 235 236 237 238 239 240 241 242 243 244 245 246 247 248 249 250 251\n 252 253 254 255 256 257 258 259 260 261 262 263 264 265 266 267 268 269\n 270 271 272 273 274 275 276 277 278 279 280 281 282 283 284 285 286 287\n 288 289 290 291 292 293 294 295 296 297 298 299 300 301 302 303 304 305\n 306 307 308 309 310 311 312 313 314 315 316 317 318 319 320 321 322 323\n 324 325 326 327 328 329 330 331 332 333 334 335 336 337 338 339 340 341\n 342 343 344 345 346 347 348 349 350 351 352 353 354 355 356 357 358 359\n 360 361 362 363 364 365 366 367 368 369 370 371 372 373 374 375 376 377\n 378 379 380 381 382 383 384 385 386 387 388 389 390 391 392 393 394 395\n 396 397 398 399 400 401 402 403 404 405 406 407 408 409 410 411 412 413\n 414 415 416 417 418 419 420 421 422 423 424 425 426 427 428 429 430 431], got [-3.04357515e-01 -2.98748208e-01 -2.93138902e-01 -2.87529595e-01\n -2.81920288e-01 -2.76310981e-01 -2.70701674e-01 -2.65092367e-01\n -2.59483060e-01 -2.53873753e-01 -2.48264446e-01 -2.42655139e-01\n -2.37045832e-01 -2.31436525e-01 -2.25827218e-01 -2.20217911e-01\n -2.14608604e-01 -2.08999297e-01 -2.03389990e-01 -1.97780683e-01\n -1.92171376e-01 -1.86562069e-01 -1.80952762e-01 -1.75343455e-01\n -1.69734148e-01 -1.64124841e-01 -1.58515534e-01 -1.52906227e-01\n -1.47296920e-01 -1.41687613e-01 -1.36078306e-01 -1.30469000e-01\n -1.24859693e-01 -1.19250386e-01 -1.13641079e-01 -1.08031772e-01\n -1.02422465e-01 -9.68131577e-02 -9.12038507e-02 -8.55945438e-02\n -7.99852368e-02 -7.43759298e-02 -6.87666229e-02 -6.31573159e-02\n -5.75480089e-02 -5.19387020e-02 -4.63293950e-02 -4.07200881e-02\n -3.51107811e-02 -2.95014741e-02 -2.38921672e-02 -1.82828602e-02\n -1.26735532e-02 -7.06424625e-03 -1.45493929e-03  4.15436768e-03\n  9.76367464e-03  1.53729816e-02  2.09822886e-02  2.65915955e-02\n  3.22009025e-02  3.78102095e-02  4.34195164e-02  4.90288234e-02\n  5.46381304e-02  6.02474373e-02  6.58567443e-02  7.14660513e-02\n  7.70753582e-02  8.26846652e-02  9.39032791e-02  9.95125861e-02\n  1.05121893e-01  1.10731200e-01  1.16340507e-01  1.21949814e-01\n  1.27559121e-01  1.33168428e-01  1.38777735e-01  1.44387042e-01\n  1.49996349e-01  1.55605656e-01  1.61214963e-01  1.66824270e-01\n  1.72433577e-01  1.78042884e-01  1.83652191e-01  1.89261498e-01\n  1.94870805e-01  2.00480111e-01  2.06089418e-01  2.11698725e-01\n  2.17308032e-01  2.22917339e-01  2.28526646e-01  2.34135953e-01\n  2.39745260e-01  2.45354567e-01  2.50963874e-01  2.56573181e-01\n  2.62182488e-01  2.67791795e-01  2.73401102e-01  2.79010409e-01\n  2.84619716e-01  2.95838330e-01  3.01447637e-01  3.07056944e-01\n  3.12666251e-01  3.23884865e-01  3.29494172e-01  3.35103479e-01\n  3.40712786e-01  3.46322093e-01  3.51931400e-01  3.57540707e-01\n  3.63150013e-01  3.74368627e-01  3.79977934e-01  3.85587241e-01\n  3.91196548e-01  3.96805855e-01  4.02415162e-01  4.08024469e-01\n  4.13633776e-01  4.24852390e-01  4.30461697e-01  4.41680311e-01\n  4.47289618e-01  4.52898925e-01  4.58508232e-01  4.64117539e-01\n  4.69726846e-01  4.75336153e-01  4.80945460e-01  4.86554767e-01\n  4.92164074e-01  5.03382688e-01  5.08991995e-01  5.20210609e-01\n  5.25819916e-01  5.37038529e-01  5.42647836e-01  5.53866450e-01\n  5.65085064e-01  5.70694371e-01  5.76303678e-01  5.81912985e-01\n  5.87522292e-01  5.93131599e-01  6.09959520e-01  6.15568827e-01\n  6.21178134e-01  6.26787441e-01  6.32396748e-01  6.38006055e-01\n  6.43615362e-01  6.49224669e-01  6.54833976e-01  6.71661897e-01\n  6.82880511e-01  6.88489818e-01  6.99708431e-01  7.16536352e-01\n  7.22145659e-01  7.33364273e-01  7.38973580e-01  7.44582887e-01\n  7.50192194e-01  7.55801501e-01  7.61410808e-01  7.67020115e-01\n  7.72629422e-01  7.78238729e-01  7.83848036e-01  8.00675957e-01\n  8.06285264e-01  8.11894571e-01  8.23113185e-01  8.28722492e-01\n  8.39941106e-01  8.45550413e-01  8.51159720e-01  8.56769026e-01\n  8.62378333e-01  8.73596947e-01  8.79206254e-01  8.84815561e-01\n  8.90424868e-01  9.01643482e-01  9.12862096e-01  9.18471403e-01\n  9.24080710e-01  9.29690017e-01  9.35299324e-01  9.52127245e-01\n  9.68955166e-01  9.80173780e-01  9.85783087e-01  1.00261101e+00\n  1.08114131e+00  1.08675061e+00  1.09235992e+00  1.10918784e+00\n  1.11479715e+00  1.12040645e+00  1.12601576e+00  1.13162507e+00\n  1.14845299e+00  1.15406230e+00  1.18771814e+00  1.19332744e+00\n  1.21015537e+00  1.21576467e+00  1.22137398e+00  1.22698329e+00\n  1.24942051e+00  1.25502982e+00  1.26063913e+00  1.27185774e+00\n  1.29990428e+00  1.31112289e+00  1.32234150e+00  1.32795081e+00\n  1.35599735e+00  1.36160665e+00  1.38404388e+00  1.39526250e+00\n  1.40087180e+00  1.40648111e+00  1.42330903e+00  1.42891834e+00\n  1.43452764e+00  1.45135556e+00  1.45696487e+00  1.46257418e+00\n  1.46818349e+00  1.47379279e+00  1.48501141e+00  1.49062071e+00\n  1.51305794e+00  1.51866725e+00  1.52427656e+00  1.54110448e+00\n  1.54671378e+00  1.55793240e+00  1.56915101e+00  1.57476032e+00\n  1.58597893e+00  1.59158824e+00  1.60280685e+00  1.60841616e+00\n  1.61963477e+00  1.62524408e+00  1.63085339e+00  1.64768131e+00\n  1.68133715e+00  1.68694646e+00  1.69255576e+00  1.69816507e+00\n  1.70377438e+00  1.71499299e+00  1.72621161e+00  1.73182091e+00\n  1.74303953e+00  1.77108606e+00  1.77669537e+00  1.79352329e+00\n  1.79913260e+00  1.83839775e+00  1.84400705e+00  1.87766289e+00\n  1.88327220e+00  1.89449082e+00  1.90010012e+00  1.91692804e+00\n  1.95058388e+00  1.96741181e+00  1.98984903e+00  2.01789557e+00\n  2.04594210e+00  2.06277002e+00  2.06837933e+00  2.07398864e+00\n  2.09081656e+00  2.12447240e+00  2.13008171e+00  2.14690963e+00\n  2.15251894e+00  2.17495616e+00  2.18056547e+00  2.18617478e+00\n  2.20861201e+00  2.21983062e+00  2.23104923e+00  2.25909577e+00\n  2.28714230e+00  2.29275161e+00  2.32640745e+00  2.34323537e+00\n  2.34884468e+00  2.36567260e+00  2.37128191e+00  2.37689121e+00\n  2.41615636e+00  2.42176567e+00  2.42737498e+00  2.43298428e+00\n  2.44420290e+00  2.44981220e+00  2.49468666e+00  2.50029597e+00\n  2.50590527e+00  2.51151458e+00  2.53395181e+00  2.55077973e+00\n  2.57321696e+00  2.59004488e+00  2.70784033e+00  2.71344963e+00\n  2.72466825e+00  2.73588686e+00  2.75271478e+00  2.80319854e+00\n  2.82002646e+00  2.83685439e+00  2.84246369e+00  2.86490092e+00\n  2.88172884e+00  2.90977538e+00  2.92660330e+00  2.93782191e+00\n  2.95464983e+00  3.00513359e+00  3.06122666e+00  3.08366389e+00\n  3.09488251e+00  3.10049181e+00  3.13975696e+00  3.14536627e+00\n  3.19585003e+00  3.20706865e+00  3.22389657e+00  3.23511518e+00\n  3.24072449e+00  3.25194310e+00  3.34730132e+00  3.39778508e+00\n  3.41461300e+00  3.42583162e+00  3.43144092e+00  3.43705023e+00\n  3.45387815e+00  3.45948746e+00  3.50997122e+00  3.51558053e+00\n  3.53240845e+00  3.54362706e+00  3.56606429e+00  3.78482726e+00\n  3.82409241e+00  3.90262271e+00  3.95871578e+00  4.21113459e+00\n  4.42989756e+00  4.48038133e+00  4.53086509e+00  4.80011182e+00\n  4.87303281e+00  4.90107935e+00  4.91790727e+00  4.96839103e+00\n  4.98521895e+00  5.03570272e+00  5.05253064e+00  5.05813994e+00\n  5.07496786e+00  5.08057717e+00  5.09740509e+00  5.11423301e+00\n  5.14788886e+00  5.15349816e+00  5.22080985e+00  5.22641915e+00\n  5.33299599e+00  5.64711718e+00  5.66394510e+00  6.18000134e+00\n  6.38193639e+00  6.60069936e+00  6.68483896e+00  6.72410411e+00\n  6.72971342e+00  6.75775995e+00  6.76897857e+00  6.77458788e+00\n  6.83068095e+00  6.84189956e+00  6.84750887e+00  6.85872748e+00\n  6.87555540e+00  6.90360194e+00  6.90921124e+00  6.95969501e+00\n  6.99335085e+00  7.01578808e+00  7.08309976e+00  7.11114629e+00\n  7.18406728e+00  7.19528590e+00  7.20650451e+00  7.22894174e+00\n  7.35795580e+00  7.36356511e+00  7.40283026e+00  7.41404887e+00\n  7.45892333e+00  7.55989085e+00  7.63281184e+00  7.83474689e+00\n  7.90766788e+00  7.94693303e+00  8.08155640e+00  8.24422630e+00\n  8.28910076e+00  8.31714729e+00  8.95660829e+00  9.00709205e+00\n  9.05757581e+00  9.59606928e+00  9.79800433e+00  9.96067423e+00]"
     ]
    }
   ],
   "source": [
    "from xgboost import XGBClassifier\n",
    "\n",
    "# Modelo XGBoost\n",
    "modelo_xgb = XGBClassifier(use_label_encoder=False, eval_metric='mlogloss')\n",
    "modelo_xgb.fit(X_train, y_train)\n",
    "\n",
    "# Predicciones\n",
    "y_pred_xgb = modelo_xgb.predict(X_test)\n",
    "\n",
    "# Calcular métricas\n",
    "print(\"Score del modelo (accuracy):\", round(modelo_xgb.score(X_test, y_test), 3))\n",
    "print(\"Accuracy score:\", round(accuracy_score(y_test, y_pred_xgb), 3))\n",
    "print(\"Recall score:\", round(recall_score(y_test, y_pred_xgb, average='weighted'), 3))\n",
    "print(\"Precision score:\", round(precision_score(y_test, y_pred_xgb, average='weighted'), 3))\n",
    "print(\"F1 score:\", round(f1_score(y_test, y_pred_xgb, average='weighted'), 3))\n",
    "print(\"AUC:\", round(roc_auc_score(y_test, label_binarize(y_pred_xgb, classes=[0, 1, 2]), multi_class='ovr'), 3))\n"
   ]
  },
  {
   "cell_type": "code",
   "execution_count": null,
   "metadata": {},
   "outputs": [
    {
     "ename": "AttributeError",
     "evalue": "'RandomForestRegressor' object has no attribute 'predict_proba'",
     "output_type": "error",
     "traceback": [
      "\u001b[1;31m---------------------------------------------------------------------------\u001b[0m",
      "\u001b[1;31mAttributeError\u001b[0m                            Traceback (most recent call last)",
      "Cell \u001b[1;32mIn[11], line 4\u001b[0m\n\u001b[0;32m      2\u001b[0m modelo_rf \u001b[38;5;241m=\u001b[39m RandomForestRegressor(n_estimators\u001b[38;5;241m=\u001b[39m\u001b[38;5;241m100\u001b[39m, random_state\u001b[38;5;241m=\u001b[39m\u001b[38;5;241m42\u001b[39m)\n\u001b[0;32m      3\u001b[0m modelo_rf\u001b[38;5;241m.\u001b[39mfit(X_train, y_train)\n\u001b[1;32m----> 4\u001b[0m y_pred_rf \u001b[38;5;241m=\u001b[39m \u001b[43mmodelo_rf\u001b[49m\u001b[38;5;241;43m.\u001b[39;49m\u001b[43mpredict_proba\u001b[49m(X_test) \u001b[38;5;66;03m#predecir\u001b[39;00m\n\u001b[0;32m      5\u001b[0m mse_rf \u001b[38;5;241m=\u001b[39m mean_squared_error(y_test, y_pred_rf) \u001b[38;5;66;03m#evaluar\u001b[39;00m\n",
      "\u001b[1;31mAttributeError\u001b[0m: 'RandomForestRegressor' object has no attribute 'predict_proba'"
     ]
    }
   ],
   "source": [
    "# Modelo 3: Random Forest\n",
    "modelo_rf = RandomForestRegressor(n_estimators=100, random_state=42)\n",
    "modelo_rf.fit(X_train, y_train)\n",
    "y_pred_rf = modelo_rf.predict_proba(X_test) #predecir\n",
    "mse_rf = mean_squared_error(y_test, y_pred_rf) #evaluar"
   ]
  },
  {
   "cell_type": "code",
   "execution_count": null,
   "metadata": {},
   "outputs": [
    {
     "ename": "ValueError",
     "evalue": "continuous target data is not supported with label binarization",
     "output_type": "error",
     "traceback": [
      "\u001b[1;31m---------------------------------------------------------------------------\u001b[0m",
      "\u001b[1;31mValueError\u001b[0m                                Traceback (most recent call last)",
      "Cell \u001b[1;32mIn[36], line 1\u001b[0m\n\u001b[1;32m----> 1\u001b[0m roc_auc_rf \u001b[38;5;241m=\u001b[39m roc_auc_score(\u001b[43mlabel_binarize\u001b[49m\u001b[43m(\u001b[49m\u001b[43my_test\u001b[49m\u001b[43m,\u001b[49m\u001b[43m \u001b[49m\u001b[43mclasses\u001b[49m\u001b[38;5;241;43m=\u001b[39;49m\u001b[43m[\u001b[49m\u001b[38;5;241;43m0\u001b[39;49m\u001b[43m,\u001b[49m\u001b[43m \u001b[49m\u001b[38;5;241;43m1\u001b[39;49m\u001b[43m,\u001b[49m\u001b[43m \u001b[49m\u001b[38;5;241;43m2\u001b[39;49m\u001b[43m]\u001b[49m\u001b[43m)\u001b[49m, y_pred_rf, multi_class\u001b[38;5;241m=\u001b[39m\u001b[38;5;124m'\u001b[39m\u001b[38;5;124movr\u001b[39m\u001b[38;5;124m'\u001b[39m)\n",
      "File \u001b[1;32mc:\\Users\\Nicole Passi\\AppData\\Local\\Programs\\Python\\Python312\\Lib\\site-packages\\sklearn\\utils\\_param_validation.py:213\u001b[0m, in \u001b[0;36mvalidate_params.<locals>.decorator.<locals>.wrapper\u001b[1;34m(*args, **kwargs)\u001b[0m\n\u001b[0;32m    207\u001b[0m \u001b[38;5;28;01mtry\u001b[39;00m:\n\u001b[0;32m    208\u001b[0m     \u001b[38;5;28;01mwith\u001b[39;00m config_context(\n\u001b[0;32m    209\u001b[0m         skip_parameter_validation\u001b[38;5;241m=\u001b[39m(\n\u001b[0;32m    210\u001b[0m             prefer_skip_nested_validation \u001b[38;5;129;01mor\u001b[39;00m global_skip_validation\n\u001b[0;32m    211\u001b[0m         )\n\u001b[0;32m    212\u001b[0m     ):\n\u001b[1;32m--> 213\u001b[0m         \u001b[38;5;28;01mreturn\u001b[39;00m \u001b[43mfunc\u001b[49m\u001b[43m(\u001b[49m\u001b[38;5;241;43m*\u001b[39;49m\u001b[43margs\u001b[49m\u001b[43m,\u001b[49m\u001b[43m \u001b[49m\u001b[38;5;241;43m*\u001b[39;49m\u001b[38;5;241;43m*\u001b[39;49m\u001b[43mkwargs\u001b[49m\u001b[43m)\u001b[49m\n\u001b[0;32m    214\u001b[0m \u001b[38;5;28;01mexcept\u001b[39;00m InvalidParameterError \u001b[38;5;28;01mas\u001b[39;00m e:\n\u001b[0;32m    215\u001b[0m     \u001b[38;5;66;03m# When the function is just a wrapper around an estimator, we allow\u001b[39;00m\n\u001b[0;32m    216\u001b[0m     \u001b[38;5;66;03m# the function to delegate validation to the estimator, but we replace\u001b[39;00m\n\u001b[0;32m    217\u001b[0m     \u001b[38;5;66;03m# the name of the estimator by the name of the function in the error\u001b[39;00m\n\u001b[0;32m    218\u001b[0m     \u001b[38;5;66;03m# message to avoid confusion.\u001b[39;00m\n\u001b[0;32m    219\u001b[0m     msg \u001b[38;5;241m=\u001b[39m re\u001b[38;5;241m.\u001b[39msub(\n\u001b[0;32m    220\u001b[0m         \u001b[38;5;124mr\u001b[39m\u001b[38;5;124m\"\u001b[39m\u001b[38;5;124mparameter of \u001b[39m\u001b[38;5;124m\\\u001b[39m\u001b[38;5;124mw+ must be\u001b[39m\u001b[38;5;124m\"\u001b[39m,\n\u001b[0;32m    221\u001b[0m         \u001b[38;5;124mf\u001b[39m\u001b[38;5;124m\"\u001b[39m\u001b[38;5;124mparameter of \u001b[39m\u001b[38;5;132;01m{\u001b[39;00mfunc\u001b[38;5;241m.\u001b[39m\u001b[38;5;18m__qualname__\u001b[39m\u001b[38;5;132;01m}\u001b[39;00m\u001b[38;5;124m must be\u001b[39m\u001b[38;5;124m\"\u001b[39m,\n\u001b[0;32m    222\u001b[0m         \u001b[38;5;28mstr\u001b[39m(e),\n\u001b[0;32m    223\u001b[0m     )\n",
      "File \u001b[1;32mc:\\Users\\Nicole Passi\\AppData\\Local\\Programs\\Python\\Python312\\Lib\\site-packages\\sklearn\\preprocessing\\_label.py:571\u001b[0m, in \u001b[0;36mlabel_binarize\u001b[1;34m(y, classes, neg_label, pos_label, sparse_output)\u001b[0m\n\u001b[0;32m    569\u001b[0m         Y\u001b[38;5;241m.\u001b[39mdata \u001b[38;5;241m=\u001b[39m data\n\u001b[0;32m    570\u001b[0m \u001b[38;5;28;01melse\u001b[39;00m:\n\u001b[1;32m--> 571\u001b[0m     \u001b[38;5;28;01mraise\u001b[39;00m \u001b[38;5;167;01mValueError\u001b[39;00m(\n\u001b[0;32m    572\u001b[0m         \u001b[38;5;124m\"\u001b[39m\u001b[38;5;132;01m%s\u001b[39;00m\u001b[38;5;124m target data is not supported with label binarization\u001b[39m\u001b[38;5;124m\"\u001b[39m \u001b[38;5;241m%\u001b[39m y_type\n\u001b[0;32m    573\u001b[0m     )\n\u001b[0;32m    575\u001b[0m \u001b[38;5;28;01mif\u001b[39;00m \u001b[38;5;129;01mnot\u001b[39;00m sparse_output:\n\u001b[0;32m    576\u001b[0m     Y \u001b[38;5;241m=\u001b[39m Y\u001b[38;5;241m.\u001b[39mtoarray()\n",
      "\u001b[1;31mValueError\u001b[0m: continuous target data is not supported with label binarization"
     ]
    }
   ],
   "source": [
    "roc_auc_rf = roc_auc_score(label_binarize(y_test, classes=[0, 1, 2]), y_pred_rf, multi_class='ovr')"
   ]
  },
  {
   "cell_type": "code",
   "execution_count": null,
   "metadata": {},
   "outputs": [
    {
     "ename": "AttributeError",
     "evalue": "'RandomForestClassifier' object has no attribute 'estimators_'",
     "output_type": "error",
     "traceback": [
      "\u001b[1;31m---------------------------------------------------------------------------\u001b[0m",
      "\u001b[1;31mAttributeError\u001b[0m                            Traceback (most recent call last)",
      "Cell \u001b[1;32mIn[37], line 1\u001b[0m\n\u001b[1;32m----> 1\u001b[0m \u001b[43mmodelo_rf\u001b[49m\u001b[38;5;241;43m.\u001b[39;49m\u001b[43mscore\u001b[49m\u001b[43m(\u001b[49m\u001b[43mX_test\u001b[49m\u001b[43m,\u001b[49m\u001b[43m \u001b[49m\u001b[43my_test\u001b[49m\u001b[43m)\u001b[49m\n",
      "File \u001b[1;32mc:\\Users\\Nicole Passi\\AppData\\Local\\Programs\\Python\\Python312\\Lib\\site-packages\\sklearn\\base.py:764\u001b[0m, in \u001b[0;36mClassifierMixin.score\u001b[1;34m(self, X, y, sample_weight)\u001b[0m\n\u001b[0;32m    739\u001b[0m \u001b[38;5;250m\u001b[39m\u001b[38;5;124;03m\"\"\"\u001b[39;00m\n\u001b[0;32m    740\u001b[0m \u001b[38;5;124;03mReturn the mean accuracy on the given test data and labels.\u001b[39;00m\n\u001b[0;32m    741\u001b[0m \n\u001b[1;32m   (...)\u001b[0m\n\u001b[0;32m    760\u001b[0m \u001b[38;5;124;03m    Mean accuracy of ``self.predict(X)`` w.r.t. `y`.\u001b[39;00m\n\u001b[0;32m    761\u001b[0m \u001b[38;5;124;03m\"\"\"\u001b[39;00m\n\u001b[0;32m    762\u001b[0m \u001b[38;5;28;01mfrom\u001b[39;00m \u001b[38;5;21;01m.\u001b[39;00m\u001b[38;5;21;01mmetrics\u001b[39;00m \u001b[38;5;28;01mimport\u001b[39;00m accuracy_score\n\u001b[1;32m--> 764\u001b[0m \u001b[38;5;28;01mreturn\u001b[39;00m accuracy_score(y, \u001b[38;5;28;43mself\u001b[39;49m\u001b[38;5;241;43m.\u001b[39;49m\u001b[43mpredict\u001b[49m\u001b[43m(\u001b[49m\u001b[43mX\u001b[49m\u001b[43m)\u001b[49m, sample_weight\u001b[38;5;241m=\u001b[39msample_weight)\n",
      "File \u001b[1;32mc:\\Users\\Nicole Passi\\AppData\\Local\\Programs\\Python\\Python312\\Lib\\site-packages\\sklearn\\ensemble\\_forest.py:904\u001b[0m, in \u001b[0;36mForestClassifier.predict\u001b[1;34m(self, X)\u001b[0m\n\u001b[0;32m    883\u001b[0m \u001b[38;5;28;01mdef\u001b[39;00m \u001b[38;5;21mpredict\u001b[39m(\u001b[38;5;28mself\u001b[39m, X):\n\u001b[0;32m    884\u001b[0m \u001b[38;5;250m    \u001b[39m\u001b[38;5;124;03m\"\"\"\u001b[39;00m\n\u001b[0;32m    885\u001b[0m \u001b[38;5;124;03m    Predict class for X.\u001b[39;00m\n\u001b[0;32m    886\u001b[0m \n\u001b[1;32m   (...)\u001b[0m\n\u001b[0;32m    902\u001b[0m \u001b[38;5;124;03m        The predicted classes.\u001b[39;00m\n\u001b[0;32m    903\u001b[0m \u001b[38;5;124;03m    \"\"\"\u001b[39;00m\n\u001b[1;32m--> 904\u001b[0m     proba \u001b[38;5;241m=\u001b[39m \u001b[38;5;28;43mself\u001b[39;49m\u001b[38;5;241;43m.\u001b[39;49m\u001b[43mpredict_proba\u001b[49m\u001b[43m(\u001b[49m\u001b[43mX\u001b[49m\u001b[43m)\u001b[49m\n\u001b[0;32m    906\u001b[0m     \u001b[38;5;28;01mif\u001b[39;00m \u001b[38;5;28mself\u001b[39m\u001b[38;5;241m.\u001b[39mn_outputs_ \u001b[38;5;241m==\u001b[39m \u001b[38;5;241m1\u001b[39m:\n\u001b[0;32m    907\u001b[0m         \u001b[38;5;28;01mreturn\u001b[39;00m \u001b[38;5;28mself\u001b[39m\u001b[38;5;241m.\u001b[39mclasses_\u001b[38;5;241m.\u001b[39mtake(np\u001b[38;5;241m.\u001b[39margmax(proba, axis\u001b[38;5;241m=\u001b[39m\u001b[38;5;241m1\u001b[39m), axis\u001b[38;5;241m=\u001b[39m\u001b[38;5;241m0\u001b[39m)\n",
      "File \u001b[1;32mc:\\Users\\Nicole Passi\\AppData\\Local\\Programs\\Python\\Python312\\Lib\\site-packages\\sklearn\\ensemble\\_forest.py:946\u001b[0m, in \u001b[0;36mForestClassifier.predict_proba\u001b[1;34m(self, X)\u001b[0m\n\u001b[0;32m    944\u001b[0m check_is_fitted(\u001b[38;5;28mself\u001b[39m)\n\u001b[0;32m    945\u001b[0m \u001b[38;5;66;03m# Check data\u001b[39;00m\n\u001b[1;32m--> 946\u001b[0m X \u001b[38;5;241m=\u001b[39m \u001b[38;5;28;43mself\u001b[39;49m\u001b[38;5;241;43m.\u001b[39;49m\u001b[43m_validate_X_predict\u001b[49m\u001b[43m(\u001b[49m\u001b[43mX\u001b[49m\u001b[43m)\u001b[49m\n\u001b[0;32m    948\u001b[0m \u001b[38;5;66;03m# Assign chunk of trees to jobs\u001b[39;00m\n\u001b[0;32m    949\u001b[0m n_jobs, _, _ \u001b[38;5;241m=\u001b[39m _partition_estimators(\u001b[38;5;28mself\u001b[39m\u001b[38;5;241m.\u001b[39mn_estimators, \u001b[38;5;28mself\u001b[39m\u001b[38;5;241m.\u001b[39mn_jobs)\n",
      "File \u001b[1;32mc:\\Users\\Nicole Passi\\AppData\\Local\\Programs\\Python\\Python312\\Lib\\site-packages\\sklearn\\ensemble\\_forest.py:636\u001b[0m, in \u001b[0;36mBaseForest._validate_X_predict\u001b[1;34m(self, X)\u001b[0m\n\u001b[0;32m    633\u001b[0m \u001b[38;5;250m\u001b[39m\u001b[38;5;124;03m\"\"\"\u001b[39;00m\n\u001b[0;32m    634\u001b[0m \u001b[38;5;124;03mValidate X whenever one tries to predict, apply, predict_proba.\"\"\"\u001b[39;00m\n\u001b[0;32m    635\u001b[0m check_is_fitted(\u001b[38;5;28mself\u001b[39m)\n\u001b[1;32m--> 636\u001b[0m \u001b[38;5;28;01mif\u001b[39;00m \u001b[38;5;28;43mself\u001b[39;49m\u001b[38;5;241;43m.\u001b[39;49m\u001b[43mestimators_\u001b[49m[\u001b[38;5;241m0\u001b[39m]\u001b[38;5;241m.\u001b[39m_support_missing_values(X):\n\u001b[0;32m    637\u001b[0m     force_all_finite \u001b[38;5;241m=\u001b[39m \u001b[38;5;124m\"\u001b[39m\u001b[38;5;124mallow-nan\u001b[39m\u001b[38;5;124m\"\u001b[39m\n\u001b[0;32m    638\u001b[0m \u001b[38;5;28;01melse\u001b[39;00m:\n",
      "\u001b[1;31mAttributeError\u001b[0m: 'RandomForestClassifier' object has no attribute 'estimators_'"
     ]
    }
   ],
   "source": [
    "modelo_rf.score(X_test, y_test)"
   ]
  },
  {
   "cell_type": "code",
   "execution_count": null,
   "metadata": {},
   "outputs": [],
   "source": []
  }
 ],
 "metadata": {
  "kernelspec": {
   "display_name": "Python 3",
   "language": "python",
   "name": "python3"
  },
  "language_info": {
   "codemirror_mode": {
    "name": "ipython",
    "version": 3
   },
   "file_extension": ".py",
   "mimetype": "text/x-python",
   "name": "python",
   "nbconvert_exporter": "python",
   "pygments_lexer": "ipython3",
   "version": "3.12.4"
  }
 },
 "nbformat": 4,
 "nbformat_minor": 2
}
