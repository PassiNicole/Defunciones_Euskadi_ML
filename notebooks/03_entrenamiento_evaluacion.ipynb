{
 "cells": [
  {
   "cell_type": "code",
   "execution_count": 1,
   "metadata": {},
   "outputs": [],
   "source": [
    "import pandas as pd\n",
    "from sklearn.model_selection import train_test_split\n",
    "from sklearn.linear_model import LinearRegression\n",
    "from sklearn.metrics import mean_squared_error, r2_score"
   ]
  },
  {
   "cell_type": "code",
   "execution_count": 2,
   "metadata": {},
   "outputs": [],
   "source": [
    "defunciones = pd.read_csv(\"../data/def_euskadi.csv\", encoding='ISO-8859-1', skiprows=1)"
   ]
  },
  {
   "cell_type": "code",
   "execution_count": 3,
   "metadata": {},
   "outputs": [],
   "source": [
    "# convertir las variables a numeros \n",
    "\n",
    "#pasar de meses a números\n",
    "meses_num = { \n",
    "    'Enero': 1,\n",
    "    'Febrero': 2,\n",
    "    'Marzo': 3,\n",
    "    'Abril': 4,\n",
    "    'Mayo': 5,\n",
    "    'Junio': 6,\n",
    "    'Julio': 7,\n",
    "    'Agosto': 8,\n",
    "    'Septiembre': 9,\n",
    "    'Octubre': 10,\n",
    "    'Noviembre': 11,\n",
    "    'Diciembre': 12\n",
    "}\n",
    "defunciones['mes'] = defunciones['mes'].map(meses_num)\n",
    "\n",
    "#pasar de enfermedades a números\n",
    "enfermedades = {\n",
    "    'I. Ciertas enfermedades infecciosas y parasitarias (A00 - B99)': 1,\n",
    "    'II. Tumores [neoplasias] (C00 - D48)': 2,\n",
    "    'III. Enferm. sangre y órganos hematop., ciertos trast. inmunidad (D50-D89)': 3,\n",
    "    'IV. Enfermedades endocrinas, nutricionales y metabólicas (E00 - E90)': 4,\n",
    "    'V. Trastornos mentales y del comportamiento (F00 - F99)': 5,\n",
    "    'VI. Enfermedades del sistema nervioso (G00 - G99)': 6,\n",
    "    'VII. Enfermedades del ojo y sus anexos (H00 - H59)': 7,\n",
    "    'VIII. Enfermedades del oído y de la apófisis mastoides (H60 - H95)': 8,\n",
    "    'IX. Enfermedades del sistema circulatorio (I00 - I99)': 9,\n",
    "    'X. Enfermedades del sistema respiratorio (J00 - J99)': 10,\n",
    "    'XI. Enfermedades del sistema digestivo (K00 - K93)': 11,\n",
    "    'XII. Enfermedades de la piel y del tejido subcutáneo (L00 - L99)': 12,\n",
    "    'XIII. Enfermedades sistema osteomuscular y tejido conjuntivo (M00 - M99)': 13,\n",
    "    'XIV. Enfermedades del sistema genitourinario (N00 - N99)': 14,\n",
    "    'XV. Embarazo, parto y puerperio (O00 - O99)': 15,\n",
    "    'XVI. Ciertas afecciones originadas en el período perinatal (P00 - P96)': 16,\n",
    "    'XVII. Malformaciones congén., deformidades y anomalías cromos. (Q00 - Q99)': 17,\n",
    "    'XVIII. Síntomas, signos y hallazgos anormales clínicos y labor. (R00 - R99)': 18,\n",
    "    'XX. Causas externas de mortalidad (V01 - Y89)': 19,\n",
    "    'Covid-19 Confirmado': 20,\n",
    "    'Covid-19 Probable': 21\n",
    "}\n",
    "\n",
    "defunciones['grandes grupos CIE-10'] = defunciones['grandes grupos CIE-10'].map(enfermedades)\n",
    "\n",
    "#pasar de tramo edad a números\n",
    "edad_a_numeros = {\n",
    "    '0': 1,\n",
    "    '1 - 9': 2,\n",
    "    '10 - 19': 3,\n",
    "    '20 - 29': 4,\n",
    "    '30 - 39': 5,\n",
    "    '40 - 49': 6,\n",
    "    '50 - 59': 7,\n",
    "    '60 - 69': 8,\n",
    "    '70 - 79': 9,\n",
    "    '80 - 89': 10,\n",
    "    '>= 90': 11\n",
    "}\n",
    "\n",
    "defunciones['tramo edad cumplida'] = defunciones['tramo edad cumplida'].map(edad_a_numeros)\n",
    "\n",
    "#pasar sexo a número\n",
    "sexo_num = {'Hombres': 0, 'Mujeres': 1}\n",
    "defunciones['sexo'] = defunciones['sexo'].map(sexo_num)\n",
    "\n",
    "# Crear columnas por rango de años\n",
    "defunciones['rango1'] = defunciones[['2010', '2011', '2012', '2013', '2014']].sum(axis=1)\n",
    "\n",
    "defunciones['rango2'] = defunciones[['2015', '2016', '2017', '2018', '2019']].sum(axis=1)\n",
    "\n",
    "defunciones['rango3'] = defunciones[['2020', '2021', '2022', '2023']].sum(axis=1)\n",
    "\n",
    "defunciones['Defunciones'] = defunciones[['2010', '2011', '2012', '2013', '2014', '2015', '2016', '2017', '2018', '2019', '2020', '2021', '2022', '2023']].sum(axis=1)"
   ]
  },
  {
   "cell_type": "code",
   "execution_count": 5,
   "metadata": {},
   "outputs": [],
   "source": [
    "#variable independiente (X) y dependiente (y)\n",
    "X = defunciones[['tramo edad cumplida', 'mes', 'sexo', 'grandes grupos CIE-10']]\n",
    "y = defunciones['Defunciones']\n",
    "\n",
    "# entrenamiento y prueba\n",
    "X_train, X_test, y_train, y_test = train_test_split(X, y, test_size=0.2, random_state=0)"
   ]
  },
  {
   "cell_type": "code",
   "execution_count": null,
   "metadata": {},
   "outputs": [],
   "source": []
  }
 ],
 "metadata": {
  "kernelspec": {
   "display_name": "Python 3",
   "language": "python",
   "name": "python3"
  },
  "language_info": {
   "codemirror_mode": {
    "name": "ipython",
    "version": 3
   },
   "file_extension": ".py",
   "mimetype": "text/x-python",
   "name": "python",
   "nbconvert_exporter": "python",
   "pygments_lexer": "ipython3",
   "version": "3.12.4"
  }
 },
 "nbformat": 4,
 "nbformat_minor": 2
}
